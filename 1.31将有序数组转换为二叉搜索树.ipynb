{
 "cells": [
  {
   "cell_type": "code",
   "execution_count": null,
   "id": "346b33d8-94ed-467b-ae44-590a71c0f9e5",
   "metadata": {},
   "outputs": [],
   "source": [
    "给你一个整数数组 nums ，其中元素已经按 升序 排列，请你将其转换为一棵 平衡 二叉搜索树。\n",
    "\n",
    " \n",
    "\n",
    "示例 1：\n",
    "\n",
    "\n",
    "输入：nums = [-10,-3,0,5,9]\n",
    "输出：[0,-3,9,-10,null,5]\n",
    "解释：[0,-10,5,null,-3,null,9] 也将被视为正确答案：\n",
    "\n",
    "示例 2：\n",
    "\n",
    "\n",
    "输入：nums = [1,3]\n",
    "输出：[3,1]\n",
    "解释：[1,null,3] 和 [3,1] 都是高度平衡二叉搜索树。\n",
    " \n",
    "\n",
    "提示：\n",
    "\n",
    "1 <= nums.length <= 104\n",
    "-104 <= nums[i] <= 104\n",
    "nums 按 严格递增 顺序排列"
   ]
  }
 ],
 "metadata": {
  "kernelspec": {
   "display_name": "Python 3 (ipykernel)",
   "language": "python",
   "name": "python3"
  },
  "language_info": {
   "codemirror_mode": {
    "name": "ipython",
    "version": 3
   },
   "file_extension": ".py",
   "mimetype": "text/x-python",
   "name": "python",
   "nbconvert_exporter": "python",
   "pygments_lexer": "ipython3",
   "version": "3.12.7"
  }
 },
 "nbformat": 4,
 "nbformat_minor": 5
}
