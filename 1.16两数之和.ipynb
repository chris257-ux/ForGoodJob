{
 "cells": [
  {
   "cell_type": "markdown",
   "id": "cb67130e-f735-4f35-9028-387124911591",
   "metadata": {},
   "source": [
    "给定一个整数数组 nums 和一个整数目标值 target，请你在该数组中找出 和为目标值 target  的那 两个 整数，并返回它们的数组下标。\n",
    "\n",
    "你可以假设每种输入只会对应一个答案，并且你不能使用两次相同的元素。\n",
    "\n",
    "你可以按任意顺序返回答案。\n",
    "\n",
    " \n",
    "\n",
    "示例 1：\n",
    "\n",
    "输入：nums = [2,7,11,15], target = 9\n",
    "输出：[0,1]\n",
    "解释：因为 nums[0] + nums[1] == 9 ，返回 [0, 1] 。\n",
    "示例 2：\n",
    "\n",
    "输入：nums = [3,2,4], target = 6\n",
    "输出：[1,2]\n",
    "示例 3：\n",
    "\n",
    "输入：nums = [3,3], target = 6\n",
    "输出：[0,1]\n",
    " \n",
    "\n",
    "提示：\n",
    "\n",
    "2 <= nums.length <= 104\n",
    "-109 <= nums[i] <= 109\n",
    "-109 <= target <= 109\n",
    "只会存在一个有效答案"
   ]
  },
  {
   "cell_type": "markdown",
   "id": "ebbab39e-8c4c-4316-ba87-e6c835eddcb1",
   "metadata": {},
   "source": [
    "最优算法设计思路\n",
    "使用 哈希表 记录已遍历元素的索引，使得在遍历过程中能快速查找当前元素的补数（即 target - nums[i]）是否存在。具体步骤如下：\n",
    "\n",
    "初始化空字典 num_map。\n",
    "\n",
    "遍历数组，对每个元素 nums[i]：\n",
    "\n",
    "计算补数 complement = target - nums[i]。\n",
    "\n",
    "若补数存在于 num_map，返回 [num_map[complement], i]。\n",
    "\n",
    "否则，将 nums[i] 和其索引存入 num_map。\n",
    "\n",
    "时间复杂度与空间复杂度分析\n",
    "时间复杂度：O(n)，遍历数组一次。\n",
    "\n",
    "空间复杂度：O(n)，哈希表存储最多 n 个元素。"
   ]
  },
  {
   "cell_type": "code",
   "execution_count": 1,
   "id": "cfd0635f-29b5-4542-ab3d-db03d2ed68a5",
   "metadata": {},
   "outputs": [
    {
     "name": "stdout",
     "output_type": "stream",
     "text": [
      "测试用例 1 输出: [0, 1]\n",
      "测试用例 2 输出: [1, 2]\n",
      "测试用例 3 输出: [0, 1]\n"
     ]
    }
   ],
   "source": [
    "def twoSum(nums, target):\n",
    "    num_map = {}  # 哈希表，存储值到索引的映射\n",
    "    \n",
    "    for i, num in enumerate(nums):\n",
    "        complement = target - num\n",
    "        if complement in num_map:\n",
    "            return [num_map[complement], i]\n",
    "        num_map[num] = i  # 将当前值存入哈希表\n",
    "    \n",
    "    return []  # 题目保证存在解，此处仅为语法完整性\n",
    "\n",
    "# 测试用例 1\n",
    "nums1 = [2, 7, 11, 15]\n",
    "target1 = 9\n",
    "print(\"测试用例 1 输出:\", twoSum(nums1, target1))  # 输出: [0, 1]\n",
    "\n",
    "# 测试用例 2\n",
    "nums2 = [3, 2, 4]\n",
    "target2 = 6\n",
    "print(\"测试用例 2 输出:\", twoSum(nums2, target2))  # 输出: [1, 2]\n",
    "\n",
    "# 测试用例 3\n",
    "nums3 = [3, 3]\n",
    "target3 = 6\n",
    "print(\"测试用例 3 输出:\", twoSum(nums3, target3))  # 输出: [0, 1]"
   ]
  },
  {
   "cell_type": "code",
   "execution_count": null,
   "id": "e05c9102-b0ff-47cd-b114-fd2d9f52cacf",
   "metadata": {},
   "outputs": [],
   "source": [
    "class Solution(object):\n",
    "    def twoSum(self, nums, target):\n",
    "        \"\"\"\n",
    "        :type nums: List[int]\n",
    "        :type target: int\n",
    "        :rtype: List[int]\n",
    "        \"\"\"\n",
    "        sum={}\n",
    "        for i,num in enumerate(nums):\n",
    "            if(target-num in sum):\n",
    "                return [i,sum[target-num]]\n",
    "            else:\n",
    "                sum[num]=i\n",
    "        return []\n",
    "        "
   ]
  }
 ],
 "metadata": {
  "kernelspec": {
   "display_name": "Python 3 (ipykernel)",
   "language": "python",
   "name": "python3"
  },
  "language_info": {
   "codemirror_mode": {
    "name": "ipython",
    "version": 3
   },
   "file_extension": ".py",
   "mimetype": "text/x-python",
   "name": "python",
   "nbconvert_exporter": "python",
   "pygments_lexer": "ipython3",
   "version": "3.12.7"
  }
 },
 "nbformat": 4,
 "nbformat_minor": 5
}
