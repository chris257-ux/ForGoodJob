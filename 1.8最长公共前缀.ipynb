{
 "cells": [
  {
   "cell_type": "markdown",
   "id": "7c47e5af-83d4-45f9-a6a6-409a2a3648ad",
   "metadata": {},
   "source": [
    "编写一个函数来查找字符串数组中的最长公共前缀。\n",
    "\n",
    "如果不存在公共前缀，返回空字符串 \"\"。\n",
    "\n",
    " \n",
    "\n",
    "示例 1：\n",
    "\n",
    "输入：strs = [\"flower\",\"flow\",\"flight\"]\n",
    "输出：\"fl\"\n",
    "示例 2：\n",
    "\n",
    "输入：strs = [\"dog\",\"racecar\",\"car\"]\n",
    "输出：\"\"\n",
    "解释：输入不存在公共前缀。\n",
    " \n",
    "\n",
    "提示：\n",
    "\n",
    "1 <= strs.length <= 200\n",
    "0 <= strs[i].length <= 200\n",
    "strs[i] 如果非空，则仅由小写英文字母组成"
   ]
  },
  {
   "cell_type": "code",
   "execution_count": 9,
   "id": "aa9c8fd2-1c7f-407e-b347-f481bf2d8d53",
   "metadata": {},
   "outputs": [
    {
     "name": "stdout",
     "output_type": "stream",
     "text": [
      "1\n",
      "测试用例 2 输出: d\n"
     ]
    }
   ],
   "source": [
    "def longestCommonPrefix(strs):\n",
    "        \"\"\"\n",
    "        :type strs: List[str]\n",
    "        :rtype: str\n",
    "        \"\"\"\n",
    "        if not strs:\n",
    "            return \"\"\n",
    "        same_pre=strs[0]\n",
    "        if not same_pre:\n",
    "            return \"\"\n",
    "        for i in range(1,len(strs)):\n",
    "            if not strs[i]:\n",
    "                return \"\"\n",
    "            n=min(len(same_pre),len(strs[i]))\n",
    "            print(n)\n",
    "            for j in range(n):\n",
    "                if(same_pre[j]!=strs[i][j]):\n",
    "                    break;\n",
    "                else:j+=1\n",
    "            same_pre=same_pre[:j]\n",
    "        return same_pre\n",
    "# 测试用例 2\n",
    "strs = [\"dog\", \"d\"]\n",
    "result = longestCommonPrefix(strs)\n",
    "print(\"测试用例 2 输出:\", result)  # 输出: \"\""
   ]
  },
  {
   "cell_type": "markdown",
   "id": "5e9d6f2d-330e-4706-b8fe-d8e453587476",
   "metadata": {},
   "source": [
    "最优算法设计思路\n",
    "为了高效地找到最长公共前缀，可以采用纵向扫描法：\n",
    "\n",
    "以第一个字符串为基准，逐个字符与其他字符串进行比较。\n",
    "\n",
    "如果在某个位置字符不匹配或某个字符串已经遍历完，则立即停止比较。\n",
    "\n",
    "返回匹配的最长前缀。\n",
    "\n",
    "这种方法的时间复杂度为 O(S)，其中 S 是所有字符串中字符的总数。\n",
    "空间复杂度：\n",
    "O(1)，没有使用额外的空间。"
   ]
  },
  {
   "cell_type": "code",
   "execution_count": 11,
   "id": "5485c438-2448-44d8-a1b9-f91a27cedc6f",
   "metadata": {},
   "outputs": [
    {
     "name": "stdout",
     "output_type": "stream",
     "text": [
      "测试用例 1 输出: fl\n",
      "测试用例 2 输出: \n",
      "测试用例 3 输出: a\n",
      "测试用例 4 输出: \n",
      "测试用例 5 输出: a\n"
     ]
    }
   ],
   "source": [
    "def longestCommonPrefix(strs):\n",
    "    \"\"\"\n",
    "    查找字符串数组中的最长公共前缀。\n",
    "    \n",
    "    :param strs: List[str]，输入的字符串数组\n",
    "    :return: str，最长公共前缀\n",
    "    \"\"\"\n",
    "    if not strs:\n",
    "        return \"\"  # 如果数组为空，直接返回空字符串\n",
    "\n",
    "    # 以第一个字符串为基准\n",
    "    base = strs[0]\n",
    "    for i in range(len(base)):\n",
    "        # 遍历其他字符串\n",
    "        for s in strs[1:]:\n",
    "            # 如果当前字符不匹配或字符串已经遍历完\n",
    "            if i >= len(s) or s[i] != base[i]:\n",
    "                return base[:i]  # 返回当前匹配的前缀\n",
    "\n",
    "    return base  # 如果全部匹配，返回第一个字符串\n",
    "\n",
    "# 测试用例 1\n",
    "strs = [\"flower\", \"flow\", \"flight\"]\n",
    "result = longestCommonPrefix(strs)\n",
    "print(\"测试用例 1 输出:\", result)  # 输出: \"fl\"\n",
    "\n",
    "# 测试用例 2\n",
    "strs = [\"dog\", \"racecar\", \"car\"]\n",
    "result = longestCommonPrefix(strs)\n",
    "print(\"测试用例 2 输出:\", result)  # 输出: \"\"\n",
    "\n",
    "# 测试用例 3\n",
    "strs = [\"ab\", \"a\"]\n",
    "result = longestCommonPrefix(strs)\n",
    "print(\"测试用例 3 输出:\", result)  # 输出: \"a\"\n",
    "\n",
    "# 测试用例 4\n",
    "strs = [\"\"]\n",
    "result = longestCommonPrefix(strs)\n",
    "print(\"测试用例 4 输出:\", result)  # 输出: \"\"\n",
    "\n",
    "# 测试用例 5\n",
    "strs = [\"a\"]\n",
    "result = longestCommonPrefix(strs)\n",
    "print(\"测试用例 5 输出:\", result)  # 输出: \"a\""
   ]
  },
  {
   "cell_type": "code",
   "execution_count": null,
   "id": "948776bb-5c7f-4c98-85b9-f0e7e31ff454",
   "metadata": {},
   "outputs": [],
   "source": []
  }
 ],
 "metadata": {
  "kernelspec": {
   "display_name": "Python 3 (ipykernel)",
   "language": "python",
   "name": "python3"
  },
  "language_info": {
   "codemirror_mode": {
    "name": "ipython",
    "version": 3
   },
   "file_extension": ".py",
   "mimetype": "text/x-python",
   "name": "python",
   "nbconvert_exporter": "python",
   "pygments_lexer": "ipython3",
   "version": "3.12.7"
  }
 },
 "nbformat": 4,
 "nbformat_minor": 5
}
