{
 "cells": [
  {
   "cell_type": "markdown",
   "id": "406ba91e-33c8-4b8a-b269-1d01f1b54aea",
   "metadata": {},
   "source": [
    "给定两个字符串 s 和 t ，判断它们是否是同构的。\n",
    "\n",
    "如果 s 中的字符可以按某种映射关系替换得到 t ，那么这两个字符串是同构的。\n",
    "\n",
    "每个出现的字符都应当映射到另一个字符，同时不改变字符的顺序。不同字符不能映射到同一个字符上，相同字符只能映射到同一个字符上，字符可以映射到自己本身。\n",
    "\n",
    " \n",
    "\n",
    "示例 1:\n",
    "\n",
    "输入：s = \"egg\", t = \"add\"\n",
    "输出：true\n",
    "示例 2：\n",
    "\n",
    "输入：s = \"foo\", t = \"bar\"\n",
    "输出：false\n",
    "示例 3：\n",
    "\n",
    "输入：s = \"paper\", t = \"title\"\n",
    "输出：true\n",
    " \n",
    "\n",
    "提示：\n",
    "\n",
    "1 <= s.length <= 5 * 104\n",
    "t.length == s.length\n",
    "s 和 t 由任意有效的 ASCII 字符组成"
   ]
  },
  {
   "cell_type": "markdown",
   "id": "6a7061cb-319c-4280-bee9-290600032518",
   "metadata": {},
   "source": [
    "最优算法设计思路\n",
    "为了确保字符一一映射且顺序一致，我们可以使用两个哈希表（字典）分别记录 s 到 t 和 t 到 s 的映射关系。遍历每个字符对，检查是否满足双向唯一映射的条件。\n",
    "\n",
    "具体步骤：\n",
    "长度检查：若 s 和 t 长度不同，直接返回 False。\n",
    "\n",
    "双哈希表映射：\n",
    "\n",
    "若 s 的字符已存在映射，必须映射到 t 的当前字符，否则返回 False。\n",
    "\n",
    "若 t 的字符已存在映射，必须映射到 s 的当前字符，否则返回 False。\n",
    "\n",
    "添加新映射：若字符对未出现过，则添加双向映射。\n",
    "\n",
    "时间复杂度与空间复杂度分析\n",
    "时间复杂度：O(n)，仅需遍历字符串一次。\n",
    "\n",
    "空间复杂度：O(1)，最多存储固定数量的 ASCII 字符（256 个）。"
   ]
  },
  {
   "cell_type": "code",
   "execution_count": 1,
   "id": "a1da1729-182f-427c-8a0e-b23eab85a2b6",
   "metadata": {},
   "outputs": [
    {
     "name": "stdout",
     "output_type": "stream",
     "text": [
      "测试用例 1: True\n",
      "测试用例 2: False\n",
      "测试用例 3: True\n",
      "测试用例 4: False\n"
     ]
    }
   ],
   "source": [
    "def isIsomorphic( s, t):\n",
    "    \"\"\"\n",
    "    :type s: str\n",
    "    :type t: str\n",
    "    :rtype: bool\n",
    "    \"\"\"\n",
    "    s2t={}\n",
    "    t2s={}\n",
    "    for s_char,t_char in zip(s,t):\n",
    "        if(s_char in s2t):\n",
    "            if s2t[s_char]!=t_char:\n",
    "                return False\n",
    "        else:\n",
    "            if(t_char in t2s):\n",
    "                return False\n",
    "            s2t[s_char]=t_char\n",
    "            t2s[t_char]=s_char\n",
    "    return True\n",
    "# 测试用例 1\n",
    "s1, t1 = \"egg\", \"add\"\n",
    "print(\"测试用例 1:\", isIsomorphic(s1, t1))  # 输出: True\n",
    "\n",
    "# 测试用例 2\n",
    "s2, t2 = \"foo\", \"bar\"\n",
    "print(\"测试用例 2:\", isIsomorphic(s2, t2))  # 输出: False\n",
    "\n",
    "# 测试用例 3\n",
    "s3, t3 = \"paper\", \"title\"\n",
    "print(\"测试用例 3:\", isIsomorphic(s3, t3))  # 输出: True\n",
    "\n",
    "# 测试用例 4 (不同字符映射到同一字符)\n",
    "s4, t4 = \"ab\", \"aa\"\n",
    "print(\"测试用例 4:\", isIsomorphic(s4, t4))  # 输出: False"
   ]
  },
  {
   "cell_type": "code",
   "execution_count": null,
   "id": "a48d63b7-7e63-4ad0-bc00-34dec6fbb4ef",
   "metadata": {},
   "outputs": [],
   "source": []
  }
 ],
 "metadata": {
  "kernelspec": {
   "display_name": "Python 3 (ipykernel)",
   "language": "python",
   "name": "python3"
  },
  "language_info": {
   "codemirror_mode": {
    "name": "ipython",
    "version": 3
   },
   "file_extension": ".py",
   "mimetype": "text/x-python",
   "name": "python",
   "nbconvert_exporter": "python",
   "pygments_lexer": "ipython3",
   "version": "3.12.7"
  }
 },
 "nbformat": 4,
 "nbformat_minor": 5
}
