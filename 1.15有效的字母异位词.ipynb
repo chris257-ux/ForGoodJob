{
 "cells": [
  {
   "cell_type": "markdown",
   "id": "22329f1c-8d27-4e2f-950e-ed64e5830f3c",
   "metadata": {},
   "source": [
    "给定两个字符串 s 和 t ，编写一个函数来判断 t 是否是 s 的 字母异位词。\n",
    "\n",
    " \n",
    "\n",
    "示例 1:\n",
    "\n",
    "输入: s = \"anagram\", t = \"nagaram\"\n",
    "输出: true\n",
    "示例 2:\n",
    "\n",
    "输入: s = \"rat\", t = \"car\"\n",
    "输出: false\n",
    " \n",
    "\n",
    "提示:\n",
    "\n",
    "1 <= s.length, t.length <= 5 * 104\n",
    "s 和 t 仅包含小写字母\n",
    " \n",
    "\n",
    "进阶: 如果输入字符串包含 unicode 字符怎么办？你能否调整你的解法来应对这种情况？"
   ]
  },
  {
   "cell_type": "markdown",
   "id": "23bda61a-deb6-4012-9cd1-c9afb5fe843e",
   "metadata": {},
   "source": [
    "最优算法设计思路\n",
    "采用 哈希表 统计字符出现次数，具体步骤如下：\n",
    "\n",
    "若 s 和 t 长度不同，直接返回 False。\n",
    "\n",
    "遍历 s，统计每个字符的出现次数。\n",
    "\n",
    "遍历 t，逐个减少哈希表中的字符计数。若发现字符不存在或计数减为负数，返回 False。\n",
    "\n",
    "若遍历完成未发现冲突，返回 True。\n",
    "\n",
    "时间复杂度与空间复杂度分析\n",
    "时间复杂度：O(n)，其中 n 是字符串长度。遍历字符串两次。\n",
    "\n",
    "空间复杂度：O(k)，其中 k 是字符种类数。对于小写字母，k≤26，可视为 O(1)。"
   ]
  },
  {
   "cell_type": "code",
   "execution_count": 3,
   "id": "393d818c-ca8d-4edf-a4e5-2f0ce14e1ca0",
   "metadata": {},
   "outputs": [
    {
     "name": "stdout",
     "output_type": "stream",
     "text": [
      "测试用例 1 输出: True\n",
      "测试用例 2 输出: False\n",
      "测试用例 3 输出: True\n",
      "测试用例 4 输出: True\n"
     ]
    }
   ],
   "source": [
    "def isAnagram(s: str, t: str) -> bool:\n",
    "    if len(s) != len(t):\n",
    "        return False\n",
    "    \n",
    "    char_count = {}\n",
    "    \n",
    "    # 统计 s 中字符的出现次数\n",
    "    for c in s:\n",
    "        char_count[c] = char_count.get(c, 0) + 1\n",
    "    \n",
    "    # 检查 t 中的字符是否匹配\n",
    "    for c in t:\n",
    "        if c not in char_count:\n",
    "            return False\n",
    "        char_count[c] -= 1\n",
    "        if char_count[c] < 0:\n",
    "            return False\n",
    "    \n",
    "    return True\n",
    "\n",
    "# 测试用例 1\n",
    "s1, t1 = \"anagram\", \"nagaram\"\n",
    "print(\"测试用例 1 输出:\", isAnagram(s1, t1))  # 输出: True\n",
    "\n",
    "# 测试用例 2\n",
    "s2, t2 = \"rat\", \"car\"\n",
    "print(\"测试用例 2 输出:\", isAnagram(s2, t2))  # 输出: False\n",
    "\n",
    "# 测试用例 3\n",
    "s3, t3 = \"listen\", \"silent\"\n",
    "print(\"测试用例 3 输出:\", isAnagram(s3, t3))  # 输出: True\n",
    "\n",
    "# 测试用例 4\n",
    "s4, t4 = \"a\", \"a\"\n",
    "print(\"测试用例 4 输出:\", isAnagram(s4, t4))  # 输出: True"
   ]
  },
  {
   "cell_type": "code",
   "execution_count": 1,
   "id": "17cb5a45-d2be-43fe-b8d9-e1a6d1d7f697",
   "metadata": {},
   "outputs": [],
   "source": [
    "class Solution(object):\n",
    "    def isAnagram(self, s, t):\n",
    "        \"\"\"\n",
    "        :type s: str\n",
    "        :type t: str\n",
    "        :rtype: bool\n",
    "        \"\"\"\n",
    "        if len(s)!=len(t):\n",
    "            return False\n",
    "        char_s={}\n",
    "        for char in s:\n",
    "            if(char not in char_s):\n",
    "                char_s[char]=1\n",
    "            else:\n",
    "                char_s[char]+=1\n",
    "        for t_char in t:\n",
    "            if(t_char in char_s and char_s[t_char]!=0):\n",
    "                char_s[t_char]-=1\n",
    "            else:\n",
    "                return False\n",
    "        return True"
   ]
  },
  {
   "cell_type": "code",
   "execution_count": null,
   "id": "93703e70-4bb6-4a20-abe0-a2cc9774270d",
   "metadata": {},
   "outputs": [],
   "source": []
  }
 ],
 "metadata": {
  "kernelspec": {
   "display_name": "Python 3 (ipykernel)",
   "language": "python",
   "name": "python3"
  },
  "language_info": {
   "codemirror_mode": {
    "name": "ipython",
    "version": 3
   },
   "file_extension": ".py",
   "mimetype": "text/x-python",
   "name": "python",
   "nbconvert_exporter": "python",
   "pygments_lexer": "ipython3",
   "version": "3.12.7"
  }
 },
 "nbformat": 4,
 "nbformat_minor": 5
}
