{
 "cells": [
  {
   "cell_type": "markdown",
   "id": "56b44391-f088-4a0d-922d-02681b2545ca",
   "metadata": {},
   "source": [
    "给你一个二叉搜索树的根节点 root ，返回 树中任意两不同节点值之间的最小差值 。\n",
    "\n",
    "差值是一个正数，其数值等于两值之差的绝对值。\n",
    "\n",
    " \n",
    "\n",
    "示例 1：\n",
    "\n",
    "\n",
    "输入：root = [4,2,6,1,3]\n",
    "输出：1\n",
    "示例 2：\n",
    "\n",
    "\n",
    "输入：root = [1,0,48,null,null,12,49]\n",
    "输出：1\n",
    " \n",
    "\n",
    "提示：\n",
    "\n",
    "树中节点的数目范围是 [2, 104]\n",
    "0 <= Node.val <= 105"
   ]
  },
  {
   "cell_type": "markdown",
   "id": "0eeafa2b-32d2-4aca-b937-fe137f83aeb8",
   "metadata": {},
   "source": [
    "hahha1"
   ]
  },
  {
   "cell_type": "markdown",
   "id": "3a438570-62f2-4b30-965b-8a18beeb816a",
   "metadata": {},
   "source": [
    "最优算法设计思路\n",
    "利用 中序遍历 的特性：\n",
    "\n",
    "中序遍历BST，得到升序排列的节点序列。\n",
    "\n",
    "遍历过程中，记录前一个节点的值，计算当前节点与前一个节点的差值。\n",
    "\n",
    "更新最小差值，遍历结束后返回结果。\n",
    "\n",
    "时间复杂度与空间复杂度分析\n",
    "时间复杂度：O(n)，每个节点访问一次。\n",
    "\n",
    "空间复杂度：O(h)，递归调用栈的深度为树的高度 h。"
   ]
  }
 ],
 "metadata": {
  "kernelspec": {
   "display_name": "Python 3 (ipykernel)",
   "language": "python",
   "name": "python3"
  },
  "language_info": {
   "codemirror_mode": {
    "name": "ipython",
    "version": 3
   },
   "file_extension": ".py",
   "mimetype": "text/x-python",
   "name": "python",
   "nbconvert_exporter": "python",
   "pygments_lexer": "ipython3",
   "version": "3.12.7"
  }
 },
 "nbformat": 4,
 "nbformat_minor": 5
}
