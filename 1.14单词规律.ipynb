{
 "cells": [
  {
   "cell_type": "markdown",
   "id": "06e81630-c8a1-4461-8a46-09b074d27d6d",
   "metadata": {},
   "source": [
    "给定一种规律 pattern 和一个字符串 s ，判断 s 是否遵循相同的规律。\n",
    "\n",
    "这里的 遵循 指完全匹配，例如， pattern 里的每个字母和字符串 s 中的每个非空单词之间存在着双向连接的对应规律。\n",
    "\n",
    " \n",
    "\n",
    "示例1:\n",
    "\n",
    "输入: pattern = \"abba\", s = \"dog cat cat dog\"\n",
    "输出: true\n",
    "示例 2:\n",
    "\n",
    "输入:pattern = \"abba\", s = \"dog cat cat fish\"\n",
    "输出: false\n",
    "示例 3:\n",
    "\n",
    "输入: pattern = \"aaaa\", s = \"dog cat cat dog\"\n",
    "输出: false\n",
    " \n",
    "\n",
    "提示:\n",
    "\n",
    "1 <= pattern.length <= 300\n",
    "pattern 只包含小写英文字母\n",
    "1 <= s.length <= 3000\n",
    "s 只包含小写英文字母和 ' '\n",
    "s 不包含 任何前导或尾随对空格\n",
    "s 中每个单词都被 单个空格 分隔"
   ]
  },
  {
   "cell_type": "markdown",
   "id": "d0d1858d-45c1-4ad3-aea6-3c34f874753e",
   "metadata": {},
   "source": [
    "最优算法设计思路\n",
    "采用 双哈希表 分别记录字符到单词的映射和单词到字符的映射，确保双射关系的唯一性。具体步骤如下：\n",
    "\n",
    "将字符串 s 按空格分割为单词数组。\n",
    "\n",
    "若 pattern 的长度与单词数组长度不同，直接返回 False。\n",
    "\n",
    "遍历 pattern 和单词数组，维护两个哈希表：\n",
    "\n",
    "字符到单词的映射 char_to_word。\n",
    "\n",
    "单词到字符的映射 word_to_char。\n",
    "\n",
    "若发现冲突（即字符或单词的映射不唯一），返回 False。\n",
    "\n",
    "遍历结束后返回 True。"
   ]
  },
  {
   "cell_type": "markdown",
   "id": "8fc5d13d-9833-49bf-b7b9-0b3b8adede81",
   "metadata": {},
   "source": [
    "时间复杂度与空间复杂度分析\n",
    "时间复杂度：O(n)，其中 n 是 pattern 的长度。分割字符串和遍历操作均为线性复杂度。\n",
    "\n",
    "空间复杂度：O(m)，其中 m 是唯一字符或单词的数量。最坏情况下需存储所有字符和单词的映射。"
   ]
  },
  {
   "cell_type": "code",
   "execution_count": 5,
   "id": "fd356aea-dfae-4140-8670-545aee9af87f",
   "metadata": {},
   "outputs": [
    {
     "name": "stdout",
     "output_type": "stream",
     "text": [
      "测试用例 1 输出: False\n",
      "测试用例 2 输出: True\n",
      "测试用例 3 输出: False\n",
      "测试用例 4 输出: True\n"
     ]
    }
   ],
   "source": [
    "def wordPattern(pattern: str, s: str) -> bool:\n",
    "    words = s.split()  # 将字符串 s 分割为单词列表\n",
    "    if len(pattern) != len(words):  # 长度不匹配直接返回 False\n",
    "        return False\n",
    "    \n",
    "    char_to_word = {}  # 记录字符到单词的映射\n",
    "    word_to_char = {}  # 记录单词到字符的映射\n",
    "    \n",
    "    for c, word in zip(pattern, words):\n",
    "        # 检查字符到单词的映射是否冲突\n",
    "        if c in char_to_word:\n",
    "            if char_to_word[c] != word:\n",
    "                return False\n",
    "        else:\n",
    "            # 检查单词到字符的映射是否冲突\n",
    "            if word in word_to_char:\n",
    "                if word_to_char[word] != c:\n",
    "                    return False\n",
    "            # 更新两个映射表\n",
    "            char_to_word[c] = word\n",
    "            word_to_char[word] = c\n",
    "    \n",
    "    return True\n",
    "\n",
    "# 测试用例 1\n",
    "pattern = \"aaaa\"\n",
    "s = \"dog cat cat dog\"\n",
    "print(\"测试用例 1 输出:\", wordPattern(pattern, s))  # 输出: False\n",
    "\n",
    "# 测试用例 2\n",
    "pattern = \"abba\"\n",
    "s = \"dog cat cat dog\"\n",
    "print(\"测试用例 2 输出:\", wordPattern(pattern, s))  # 输出: True\n",
    "\n",
    "# 测试用例 3\n",
    "pattern = \"abba\"\n",
    "s = \"dog dog dog dog\"\n",
    "print(\"测试用例 3 输出:\", wordPattern(pattern, s))  # 输出: False\n",
    "\n",
    "# 测试用例 4\n",
    "pattern = \"a\"\n",
    "s = \"dog\"\n",
    "print(\"测试用例 4 输出:\", wordPattern(pattern, s))  # 输出: True"
   ]
  },
  {
   "cell_type": "code",
   "execution_count": 1,
   "id": "4afbe640-6c03-4aec-a041-d36f61614746",
   "metadata": {},
   "outputs": [],
   "source": [
    "class Solution(object):\n",
    "    def wordPattern(self, pattern, s):\n",
    "        \"\"\"\n",
    "        :type pattern: str\n",
    "        :type s: str\n",
    "        :rtype: bool\n",
    "        \"\"\"\n",
    "        words=s.split()\n",
    "        if(len(words)!=len(pattern)):\n",
    "            return False\n",
    "        p2s={}\n",
    "        s2p={}\n",
    "        for p_char ,w_char in zip(pattern,words):\n",
    "            if(p_char in p2s):\n",
    "                if(p2s[p_char]!=w_char):\n",
    "                    return False\n",
    "            else:\n",
    "                if(w_char in s2p):\n",
    "                    return False\n",
    "                p2s[p_char]=w_char\n",
    "                s2p[w_char]=p_char\n",
    "        return True\n",
    "        "
   ]
  }
 ],
 "metadata": {
  "kernelspec": {
   "display_name": "Python 3 (ipykernel)",
   "language": "python",
   "name": "python3"
  },
  "language_info": {
   "codemirror_mode": {
    "name": "ipython",
    "version": 3
   },
   "file_extension": ".py",
   "mimetype": "text/x-python",
   "name": "python",
   "nbconvert_exporter": "python",
   "pygments_lexer": "ipython3",
   "version": "3.12.7"
  }
 },
 "nbformat": 4,
 "nbformat_minor": 5
}
