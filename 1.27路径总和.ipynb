{
 "cells": [
  {
   "cell_type": "markdown",
   "id": "21ea86bd-bae3-4149-8a93-1cf8e845c49d",
   "metadata": {},
   "source": [
    "给你二叉树的根节点 root 和一个表示目标和的整数 targetSum 。判断该树中是否存在 根节点到叶子节点 的路径，这条路径上所有节点值相加等于目标和 targetSum 。如果存在，返回 true ；否则，返回 false 。\n",
    "\n",
    "叶子节点 是指没有子节点的节点。\n",
    "\n",
    " \n",
    "\n",
    "示例 1：\n",
    "\n",
    "\n",
    "输入：root = [5,4,8,11,null,13,4,7,2,null,null,null,1], targetSum = 22\n",
    "输出：true\n",
    "解释：等于目标和的根节点到叶节点路径如上图所示。\n",
    "示例 2：\n",
    "\n",
    "\n",
    "输入：root = [1,2,3], targetSum = 5\n",
    "输出：false\n",
    "解释：树中存在两条根节点到叶子节点的路径：\n",
    "(1 --> 2): 和为 3\n",
    "(1 --> 3): 和为 4\n",
    "不存在 sum = 5 的根节点到叶子节点的路径。\n",
    "示例 3：\n",
    "\n",
    "输入：root = [], targetSum = 0\n",
    "输出：false\n",
    "解释：由于树是空的，所以不存在根节点到叶子节点的路径。\n",
    " \n",
    "\n",
    "提示：\n",
    "\n",
    "树中节点的数目在范围 [0, 5000] 内\n",
    "-1000 <= Node.val <= 1000\n",
    "-1000 <= targetSum <= 1000"
   ]
  },
  {
   "cell_type": "markdown",
   "id": "cfc26b15-7a5a-4a35-8f38-f02815dd1e5b",
   "metadata": {},
   "source": [
    "最优算法设计思路\n",
    "使用 递归法 遍历二叉树：\n",
    "\n",
    "若当前节点为空，返回 False。\n",
    "\n",
    "若当前节点是叶子节点（无左右子节点），检查路径和是否等于 targetSum。\n",
    "\n",
    "递归检查左子树和右子树，更新路径和。\n",
    "\n",
    "时间复杂度与空间复杂度分析\n",
    "时间复杂度：O(n)，其中n 是二叉树的节点数。每个节点被访问一次。\n",
    "\n",
    "空间复杂度：O(h)，其中 h 是二叉树的高度。递归调用栈的深度最多为 h。"
   ]
  },
  {
   "cell_type": "code",
   "execution_count": 2,
   "id": "79b9a8ec-a0ae-45f3-a691-d487249346c8",
   "metadata": {},
   "outputs": [
    {
     "name": "stdout",
     "output_type": "stream",
     "text": [
      "测试用例 1 输出: True\n",
      "测试用例 2 输出: False\n",
      "测试用例 3 输出: False\n",
      "测试用例 4 输出: False\n"
     ]
    }
   ],
   "source": [
    "class TreeNode:\n",
    "    def __init__(self, val=0, left=None, right=None):\n",
    "        self.val = val\n",
    "        self.left = left\n",
    "        self.right = right\n",
    "\n",
    "def hasPathSum(root, targetSum):\n",
    "    def dfs(node, current_sum):\n",
    "        if not node:\n",
    "            return False\n",
    "        current_sum += node.val  # 更新路径和\n",
    "        if not node.left and not node.right:  # 当前节点是叶子节点\n",
    "            return current_sum == targetSum\n",
    "        return dfs(node.left, current_sum) or dfs(node.right, current_sum)  # 递归检查左右子树\n",
    "    \n",
    "    return dfs(root, 0)\n",
    "\n",
    "# 辅助函数：根据列表构建二叉树\n",
    "def build_tree(lst, index=0):\n",
    "    if index >= len(lst) or lst[index] is None:\n",
    "        return None\n",
    "    root = TreeNode(lst[index])\n",
    "    root.left = build_tree(lst, 2 * index + 1)\n",
    "    root.right = build_tree(lst, 2 * index + 2)\n",
    "    return root\n",
    "\n",
    "# 测试用例 1\n",
    "root1 = build_tree([5, 4, 8, 11, None, 13, 4, 7, 2, None, None, None, 1])\n",
    "targetSum1 = 22\n",
    "print(\"测试用例 1 输出:\", hasPathSum(root1, targetSum1))  # 输出: True\n",
    "\n",
    "# 测试用例 2\n",
    "root2 = build_tree([1, 2, 3])\n",
    "targetSum2 = 5\n",
    "print(\"测试用例 2 输出:\", hasPathSum(root2, targetSum2))  # 输出: False\n",
    "\n",
    "# 测试用例 3\n",
    "root3 = build_tree([])\n",
    "targetSum3 = 0\n",
    "print(\"测试用例 3 输出:\", hasPathSum(root3, targetSum3))  # 输出: False\n",
    "\n",
    "# 测试用例 4\n",
    "root4 = build_tree([1, 2])\n",
    "targetSum4 = 1\n",
    "print(\"测试用例 4 输出:\", hasPathSum(root4, targetSum4))  # 输出: False"
   ]
  },
  {
   "cell_type": "code",
   "execution_count": null,
   "id": "22f126e0-b461-4ad8-9062-ebf705302810",
   "metadata": {},
   "outputs": [],
   "source": [
    "# 内存和时间更少\n",
    "class TreeNode(object):\n",
    "    def __init__(self, val=0, left=None, right=None):\n",
    "        self.val = val\n",
    "        self.left = left\n",
    "        self.right = right\n",
    "class Solution(object):\n",
    "    def hasPathSum(self, root, targetSum):\n",
    "        \"\"\"\n",
    "        :type root: Optional[TreeNode]\n",
    "        :type targetSum: int\n",
    "        :rtype: bool\n",
    "        \"\"\"\n",
    "        if not root:\n",
    "            return False\n",
    "        if not root.left and not root.right:\n",
    "            return root.val==targetSum\n",
    "        otherSum=targetSum-root.val\n",
    "        return self.hasPathSum(root.left,otherSum) or self.hasPathSum(root.right,otherSum)\n",
    "        "
   ]
  }
 ],
 "metadata": {
  "kernelspec": {
   "display_name": "Python 3 (ipykernel)",
   "language": "python",
   "name": "python3"
  },
  "language_info": {
   "codemirror_mode": {
    "name": "ipython",
    "version": 3
   },
   "file_extension": ".py",
   "mimetype": "text/x-python",
   "name": "python",
   "nbconvert_exporter": "python",
   "pygments_lexer": "ipython3",
   "version": "3.12.7"
  }
 },
 "nbformat": 4,
 "nbformat_minor": 5
}
