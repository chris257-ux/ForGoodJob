{
 "cells": [
  {
   "cell_type": "markdown",
   "id": "23f0a855-6c95-4101-a420-3bc180a89843",
   "metadata": {},
   "source": [
    "给定一个  无重复元素 的 有序 整数数组 nums 。\n",
    "\n",
    "返回 恰好覆盖数组中所有数字 的 最小有序 区间范围列表 。也就是说，nums 的每个元素都恰好被某个区间范围所覆盖，并且不存在属于某个范围但不属于 nums 的数字 x 。\n",
    "\n",
    "列表中的每个区间范围 [a,b] 应该按如下格式输出：\n",
    "\n",
    "\"a->b\" ，如果 a != b\n",
    "\"a\" ，如果 a == b\n",
    " \n",
    "\n",
    "示例 1：\n",
    "\n",
    "输入：nums = [0,1,2,4,5,7]\n",
    "输出：[\"0->2\",\"4->5\",\"7\"]\n",
    "解释：区间范围是：\n",
    "[0,2] --> \"0->2\"\n",
    "[4,5] --> \"4->5\"\n",
    "[7,7] --> \"7\"\n",
    "示例 2：\n",
    "\n",
    "输入：nums = [0,2,3,4,6,8,9]\n",
    "输出：[\"0\",\"2->4\",\"6\",\"8->9\"]\n",
    "解释：区间范围是：\n",
    "[0,0] --> \"0\"\n",
    "[2,4] --> \"2->4\"\n",
    "[6,6] --> \"6\"\n",
    "[8,9] --> \"8->9\"\n",
    " \n",
    "\n",
    "提示：\n",
    "\n",
    "0 <= nums.length <= 20\n",
    "-231 <= nums[i] <= 231 - 1\n",
    "nums 中的所有值都 互不相同\n",
    "nums 按升序排列"
   ]
  },
  {
   "cell_type": "code",
   "execution_count": 1,
   "id": "dbf45740-dfd0-479a-b4f8-d95b5f78ff2d",
   "metadata": {},
   "outputs": [
    {
     "name": "stdout",
     "output_type": "stream",
     "text": [
      "测试用例 1 输出: ['0->2', '4->5', '7']\n",
      "测试用例 2 输出: ['0', '2->4', '6', '8->9']\n",
      "测试用例 3 输出: []\n",
      "测试用例 4 输出: ['1']\n"
     ]
    }
   ],
   "source": [
    "def summaryRanges(nums):\n",
    "    if not nums:\n",
    "        return []\n",
    "    \n",
    "    ranges = []\n",
    "    start = end = nums[0]\n",
    "    \n",
    "    for i in range(1, len(nums)):\n",
    "        if nums[i] == end + 1:\n",
    "            end = nums[i]  # 扩展区间\n",
    "        else:\n",
    "            if start == end:\n",
    "                ranges.append(f\"{start}\")\n",
    "            else:\n",
    "                ranges.append(f\"{start}->{end}\")\n",
    "            start = end = nums[i]  # 开始新区间\n",
    "    \n",
    "    # 处理最后一个区间\n",
    "    if start == end:\n",
    "        ranges.append(f\"{start}\")\n",
    "    else:\n",
    "        ranges.append(f\"{start}->{end}\")\n",
    "    \n",
    "    return ranges\n",
    "\n",
    "# 测试用例 1\n",
    "nums1 = [0, 1, 2, 4, 5, 7]\n",
    "print(\"测试用例 1 输出:\", summaryRanges(nums1))  # 输出: [\"0->2\",\"4->5\",\"7\"]\n",
    "\n",
    "# 测试用例 2\n",
    "nums2 = [0, 2, 3, 4, 6, 8, 9]\n",
    "print(\"测试用例 2 输出:\", summaryRanges(nums2))  # 输出: [\"0\",\"2->4\",\"6\",\"8->9\"]\n",
    "\n",
    "# 测试用例 3\n",
    "nums3 = []\n",
    "print(\"测试用例 3 输出:\", summaryRanges(nums3))  # 输出: []\n",
    "\n",
    "# 测试用例 4\n",
    "nums4 = [1]\n",
    "print(\"测试用例 4 输出:\", summaryRanges(nums4))  # 输出: [\"1\"]"
   ]
  },
  {
   "cell_type": "code",
   "execution_count": 5,
   "id": "e3fac645-cdf0-4142-999e-c6f887f25e21",
   "metadata": {},
   "outputs": [
    {
     "ename": "TypeError",
     "evalue": "'list' object is not callable",
     "output_type": "error",
     "traceback": [
      "\u001b[1;31m---------------------------------------------------------------------------\u001b[0m",
      "\u001b[1;31mTypeError\u001b[0m                                 Traceback (most recent call last)",
      "Cell \u001b[1;32mIn[5], line 26\u001b[0m\n\u001b[0;32m     24\u001b[0m \u001b[38;5;66;03m# 测试用例 1\u001b[39;00m\n\u001b[0;32m     25\u001b[0m nums1 \u001b[38;5;241m=\u001b[39m [\u001b[38;5;241m0\u001b[39m, \u001b[38;5;241m1\u001b[39m, \u001b[38;5;241m2\u001b[39m, \u001b[38;5;241m4\u001b[39m, \u001b[38;5;241m5\u001b[39m, \u001b[38;5;241m7\u001b[39m]\n\u001b[1;32m---> 26\u001b[0m \u001b[38;5;28mprint\u001b[39m(\u001b[38;5;124m\"\u001b[39m\u001b[38;5;124m测试用例 1 输出:\u001b[39m\u001b[38;5;124m\"\u001b[39m, summaryRanges(nums1))  \u001b[38;5;66;03m# 输出: [\"0->2\",\"4->5\",\"7\"]\u001b[39;00m\n\u001b[0;32m     28\u001b[0m \u001b[38;5;66;03m# 测试用例 2\u001b[39;00m\n\u001b[0;32m     29\u001b[0m nums2 \u001b[38;5;241m=\u001b[39m [\u001b[38;5;241m0\u001b[39m, \u001b[38;5;241m2\u001b[39m, \u001b[38;5;241m3\u001b[39m, \u001b[38;5;241m4\u001b[39m, \u001b[38;5;241m6\u001b[39m, \u001b[38;5;241m8\u001b[39m, \u001b[38;5;241m9\u001b[39m]\n",
      "Cell \u001b[1;32mIn[5], line 10\u001b[0m, in \u001b[0;36msummaryRanges\u001b[1;34m(nums)\u001b[0m\n\u001b[0;32m      8\u001b[0m \u001b[38;5;28mrange\u001b[39m\u001b[38;5;241m=\u001b[39m[]\n\u001b[0;32m      9\u001b[0m start\u001b[38;5;241m=\u001b[39mend\u001b[38;5;241m=\u001b[39mnums[\u001b[38;5;241m0\u001b[39m]\n\u001b[1;32m---> 10\u001b[0m \u001b[38;5;28;01mfor\u001b[39;00m i \u001b[38;5;129;01min\u001b[39;00m \u001b[38;5;28mrange\u001b[39m(\u001b[38;5;241m1\u001b[39m,\u001b[38;5;28mlen\u001b[39m(nums)):\n\u001b[0;32m     11\u001b[0m     \u001b[38;5;28;01mif\u001b[39;00m(nums[i]\u001b[38;5;241m==\u001b[39mend\u001b[38;5;241m+\u001b[39m\u001b[38;5;241m1\u001b[39m):\n\u001b[0;32m     12\u001b[0m         end\u001b[38;5;241m=\u001b[39mnums[i]\n",
      "\u001b[1;31mTypeError\u001b[0m: 'list' object is not callable"
     ]
    }
   ],
   "source": [
    "def summaryRanges( nums):\n",
    "    \"\"\"\n",
    "    :type nums: List[int]\n",
    "    :rtype: List[str]\n",
    "    \"\"\"\n",
    "    if not nums:\n",
    "        return []\n",
    "    range=[]\n",
    "    start=end=nums[0]\n",
    "    for i in range(1,len(nums)):\n",
    "        if(nums[i]==end+1):\n",
    "            end=nums[i]\n",
    "        else:\n",
    "            if(start==end):\n",
    "                range.append(f\"{start}\")\n",
    "            else:\n",
    "                range.append(f\"{start}->{end}\")\n",
    "            start=end=nums[i]\n",
    "    if(start==end):\n",
    "        range.append(f\"{start}\")\n",
    "    else:\n",
    "        range.append(f\"{start}->{end}\")\n",
    "    return range\n",
    "# 测试用例 1\n",
    "nums1 = [0, 1, 2, 4, 5, 7]\n",
    "print(\"测试用例 1 输出:\", summaryRanges(nums1))  # 输出: [\"0->2\",\"4->5\",\"7\"]\n",
    "\n",
    "# 测试用例 2\n",
    "nums2 = [0, 2, 3, 4, 6, 8, 9]\n",
    "print(\"测试用例 2 输出:\", summaryRanges(nums2))  # 输出: [\"0\",\"2->4\",\"6\",\"8->9\"]\n",
    "\n",
    "# 测试用例 3\n",
    "nums3 = []\n",
    "print(\"测试用例 3 输出:\", summaryRanges(nums3))  # 输出: []\n",
    "\n",
    "# 测试用例 4\n",
    "nums4 = [1]\n",
    "print(\"测试用例 4 输出:\", summaryRanges(nums4))  # 输出: [\"1\"]"
   ]
  },
  {
   "cell_type": "code",
   "execution_count": null,
   "id": "4e11888b-6ff2-4a15-84c8-9d3f3c2bb5a8",
   "metadata": {},
   "outputs": [],
   "source": []
  }
 ],
 "metadata": {
  "kernelspec": {
   "display_name": "Python 3 (ipykernel)",
   "language": "python",
   "name": "python3"
  },
  "language_info": {
   "codemirror_mode": {
    "name": "ipython",
    "version": 3
   },
   "file_extension": ".py",
   "mimetype": "text/x-python",
   "name": "python",
   "nbconvert_exporter": "python",
   "pygments_lexer": "ipython3",
   "version": "3.12.7"
  }
 },
 "nbformat": 4,
 "nbformat_minor": 5
}
