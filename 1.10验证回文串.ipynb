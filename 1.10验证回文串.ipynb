{
 "cells": [
  {
   "cell_type": "markdown",
   "id": "6837aad9-8c0e-4505-8dbb-374a29ebb718",
   "metadata": {},
   "source": [
    "如果在将所有大写字符转换为小写字符、并移除所有非字母数字字符之后，短语正着读和反着读都一样。则可以认为该短语是一个 回文串 。\n",
    "\n",
    "字母和数字都属于字母数字字符。\n",
    "\n",
    "给你一个字符串 s，如果它是 回文串 ，返回 true ；否则，返回 false 。\n",
    "\n",
    " \n",
    "\n",
    "示例 1：\n",
    "\n",
    "输入: s = \"A man, a plan, a canal: Panama\"\n",
    "输出：true\n",
    "解释：\"amanaplanacanalpanama\" 是回文串。\n",
    "示例 2：\n",
    "\n",
    "输入：s = \"race a car\"\n",
    "输出：false\n",
    "解释：\"raceacar\" 不是回文串。\n",
    "示例 3：\n",
    "\n",
    "输入：s = \" \"\n",
    "输出：true\n",
    "解释：在移除非字母数字字符之后，s 是一个空字符串 \"\" 。\n",
    "由于空字符串正着反着读都一样，所以是回文串。"
   ]
  },
  {
   "cell_type": "markdown",
   "id": "7eea9413-f971-468a-abf2-6bb6cc29a874",
   "metadata": {},
   "source": [
    "最优算法设计思路\n",
    "为了高效解决这个问题，我们可以采用以下步骤：\n",
    "\n",
    "预处理字符串：\n",
    "\n",
    "将所有字符转换为小写。\n",
    "\n",
    "移除所有非字母数字字符。\n",
    "\n",
    "判断回文：\n",
    "\n",
    "使用双指针法，一个指针从字符串开头向后移动，另一个指针从字符串末尾向前移动。\n",
    "\n",
    "比较两个指针指向的字符，如果不相等，则返回 false；否则继续移动指针，直到两个指针相遇。\n",
    "\n",
    "这种方法的时间复杂度为 O(n)，空间复杂度为 O(1)。"
   ]
  },
  {
   "cell_type": "code",
   "execution_count": 23,
   "id": "59b4aab0-3ae8-4381-8d91-2cb53b12111c",
   "metadata": {},
   "outputs": [
    {
     "name": "stdout",
     "output_type": "stream",
     "text": [
      "测试用例 1 输出: True\n",
      "测试用例 2 输出: False\n",
      "测试用例 3 输出: True\n",
      "测试用例 4 输出: False\n"
     ]
    }
   ],
   "source": [
    "def isPalindrome(s):\n",
    "    \"\"\"\n",
    "    判断字符串是否为回文串。\n",
    "    \n",
    "    :param s: str，输入字符串\n",
    "    :return: bool，是否为回文串\n",
    "    \"\"\"\n",
    "    # 初始化双指针\n",
    "    left, right = 0, len(s) - 1\n",
    "\n",
    "    while left < right:\n",
    "        # 跳过非字母数字字符\n",
    "        while left < right and not s[left].isalnum():\n",
    "            left += 1\n",
    "        while left < right and not s[right].isalnum():\n",
    "            right -= 1\n",
    "\n",
    "        # 比较字符（忽略大小写）\n",
    "        if s[left].lower() != s[right].lower():\n",
    "            return False\n",
    "\n",
    "        # 移动指针\n",
    "        left += 1\n",
    "        right -= 1\n",
    "\n",
    "    return True\n",
    "\n",
    "# 测试用例 1\n",
    "s = \"A man, a plan, a canal: Panama\"\n",
    "print(\"测试用例 1 输出:\", isPalindrome(s))  # 输出: True\n",
    "\n",
    "# 测试用例 2\n",
    "s = \"race a car\"\n",
    "print(\"测试用例 2 输出:\", isPalindrome(s))  # 输出: False\n",
    "\n",
    "# 测试用例 3\n",
    "s = \" \"\n",
    "print(\"测试用例 3 输出:\", isPalindrome(s))  # 输出: True\n",
    "\n",
    "# 测试用例 4\n",
    "s = \"0P\"\n",
    "print(\"测试用例 4 输出:\", isPalindrome(s))  # 输出: False"
   ]
  },
  {
   "cell_type": "code",
   "execution_count": 21,
   "id": "3b507d9b-aef5-45f8-a87c-6f4b24ffe53b",
   "metadata": {},
   "outputs": [
    {
     "name": "stdout",
     "output_type": "stream",
     "text": [
      "0p\n",
      "2\n",
      "2\n",
      "2\n"
     ]
    },
    {
     "data": {
      "text/plain": [
       "False"
      ]
     },
     "execution_count": 21,
     "metadata": {},
     "output_type": "execute_result"
    }
   ],
   "source": [
    "import re\n",
    "def isPalindrome(s):\n",
    "    \"\"\"\n",
    "    :type s: str\n",
    "    :rtype: bool\n",
    "    \"\"\"\n",
    "    s = s.lower()\n",
    "    # 使用正则表达式去除所有非字母元素\n",
    "    #az = re.sub(r'[^a-z]', '', s)\n",
    "    az = re.sub(r'[^a-z0-9]', '', s)\n",
    "    print(az)\n",
    "    n=len(az)\n",
    "    print(len(az))\n",
    "    print(n)\n",
    "    \n",
    "    for i in range(n//2):\n",
    "        print(n-i)\n",
    "        if(az[i]!=az[n-i-1]):\n",
    "            return False\n",
    "    return True\n",
    "s = \"0P\"\n",
    "isPalindrome(s)"
   ]
  },
  {
   "cell_type": "code",
   "execution_count": null,
   "id": "e7564903-4046-4d38-8025-018522e85b84",
   "metadata": {},
   "outputs": [],
   "source": []
  }
 ],
 "metadata": {
  "kernelspec": {
   "display_name": "Python 3 (ipykernel)",
   "language": "python",
   "name": "python3"
  },
  "language_info": {
   "codemirror_mode": {
    "name": "ipython",
    "version": 3
   },
   "file_extension": ".py",
   "mimetype": "text/x-python",
   "name": "python",
   "nbconvert_exporter": "python",
   "pygments_lexer": "ipython3",
   "version": "3.12.7"
  }
 },
 "nbformat": 4,
 "nbformat_minor": 5
}
