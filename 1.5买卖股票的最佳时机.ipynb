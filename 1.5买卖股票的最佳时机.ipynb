{
 "cells": [
  {
   "cell_type": "markdown",
   "id": "457064b6-75e3-4667-b956-9f95ef36776e",
   "metadata": {},
   "source": [
    "给定一个数组 prices ，它的第 i 个元素 prices[i] 表示一支给定股票第 i 天的价格。\n",
    "\n",
    "你只能选择 某一天 买入这只股票，并选择在 未来的某一个不同的日子 卖出该股票。设计一个算法来计算你所能获取的最大利润。\n",
    "\n",
    "返回你可以从这笔交易中获取的最大利润。如果你不能获取任何利润，返回 0 。\n",
    "\n",
    " \n",
    "\n",
    "示例 1：\n",
    "\n",
    "输入：[7,1,5,3,6,4]\n",
    "输出：5\n",
    "解释：在第 2 天（股票价格 = 1）的时候买入，在第 5 天（股票价格 = 6）的时候卖出，最大利润 = 6-1 = 5 。\n",
    "     注意利润不能是 7-1 = 6, 因为卖出价格需要大于买入价格；同时，你不能在买入前卖出股票。\n",
    "示例 2：\n",
    "\n",
    "输入：prices = [7,6,4,3,1]\n",
    "输出：0\n",
    "解释：在这种情况下, 没有交易完成, 所以最大利润为 0。\n",
    " \n",
    "\n",
    "提示：\n",
    "\n",
    "1 <= prices.length <= 105\n",
    "0 <= prices[i] <= 104"
   ]
  },
  {
   "cell_type": "markdown",
   "id": "56b80170-4593-405c-bab8-adbfc9f3426d",
   "metadata": {},
   "source": [
    "最优算法设计思路\n",
    "为了在时间复杂度 O(n) 和空间复杂度 O(1) 内解决问题，我们可以使用一次遍历法：\n",
    "初始化一个变量 min_price 来记录遍历过程中的最低价格。\n",
    "初始化一个变量 max_profit 来记录当前的最大利润。\n",
    "\n",
    "遍历数组：\n",
    "更新 min_price 为当前价格和 min_price 中的较小值。\n",
    "计算当前价格与 min_price 的差值，并更新 max_profit 为当前差值和 max_profit 中的较大值。\n",
    "最终返回 max_profit。\n",
    "\n",
    "时间复杂度与空间复杂度分析\n",
    "时间复杂度：O(n)，只需遍历数组一次。\n",
    "\n",
    "空间复杂度：O(1)，只使用了常数级别的额外空间。"
   ]
  },
  {
   "cell_type": "code",
   "execution_count": 1,
   "id": "c85f71c8-2206-4cd0-a503-33d4c4b6272a",
   "metadata": {},
   "outputs": [
    {
     "name": "stdout",
     "output_type": "stream",
     "text": [
      "测试用例 1 输出: 5\n",
      "测试用例 2 输出: 0\n",
      "测试用例 3 输出: 0\n",
      "测试用例 4 输出: 2\n"
     ]
    }
   ],
   "source": [
    "def maxProfit(prices):\n",
    "    \"\"\"\n",
    "    计算股票交易的最大利润。\n",
    "    \n",
    "    :param prices: List[int]，股票价格数组\n",
    "    :return: int，最大利润\n",
    "    \"\"\"\n",
    "    if not prices:\n",
    "        return 0  # 如果数组为空，直接返回 0\n",
    "\n",
    "    min_price = float('inf')  # 初始化最低价格为无穷大\n",
    "    max_profit = 0  # 初始化最大利润为 0\n",
    "\n",
    "    # 遍历数组\n",
    "    for price in prices:\n",
    "        min_price = min(min_price, price)  # 更新最低价格\n",
    "        max_profit = max(max_profit, price - min_price)  # 更新最大利润\n",
    "\n",
    "    return max_profit  # 返回最大利润\n",
    "\n",
    "# 测试用例 1\n",
    "prices = [7, 1, 5, 3, 6, 4]\n",
    "result = maxProfit(prices)\n",
    "print(\"测试用例 1 输出:\", result)  # 输出: 5\n",
    "\n",
    "# 测试用例 2\n",
    "prices = [7, 6, 4, 3, 1]\n",
    "result = maxProfit(prices)\n",
    "print(\"测试用例 2 输出:\", result)  # 输出: 0\n",
    "\n",
    "# 测试用例 3\n",
    "prices = [1]\n",
    "result = maxProfit(prices)\n",
    "print(\"测试用例 3 输出:\", result)  # 输出: 0\n",
    "\n",
    "# 测试用例 4\n",
    "prices = [2, 4, 1]\n",
    "result = maxProfit(prices)\n",
    "print(\"测试用例 4 输出:\", result)  # 输出: 2"
   ]
  }
 ],
 "metadata": {
  "kernelspec": {
   "display_name": "Python 3 (ipykernel)",
   "language": "python",
   "name": "python3"
  },
  "language_info": {
   "codemirror_mode": {
    "name": "ipython",
    "version": 3
   },
   "file_extension": ".py",
   "mimetype": "text/x-python",
   "name": "python",
   "nbconvert_exporter": "python",
   "pygments_lexer": "ipython3",
   "version": "3.12.7"
  }
 },
 "nbformat": 4,
 "nbformat_minor": 5
}
