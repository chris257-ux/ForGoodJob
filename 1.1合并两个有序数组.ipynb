{
 "cells": [
  {
   "cell_type": "markdown",
   "id": "3e37f17b-7d55-4897-9ac0-3005a998529f",
   "metadata": {},
   "source": [
    "给你两个按 非递减顺序 排列的整数数组 nums1 和 nums2，另有两个整数 m 和 n ，分别表示 nums1 和 nums2 中的元素数目。\n",
    "\n",
    "请你 合并 nums2 到 nums1 中，使合并后的数组同样按 非递减顺序 排列。\n",
    "\n",
    "注意：最终，合并后数组不应由函数返回，而是存储在数组 nums1 中。为了应对这种情况，nums1 的初始长度为 m + n，其中前 m 个元素表示应合并的元素，后 n 个元素为 0 ，应忽略。nums2 的长度为 n 。\n",
    "\n",
    " \n",
    "\n",
    "示例 1：\n",
    "\n",
    "输入：nums1 = [1,2,3,0,0,0], m = 3, nums2 = [2,5,6], n = 3\n",
    "输出：[1,2,2,3,5,6]\n",
    "解释：需要合并 [1,2,3] 和 [2,5,6] 。\n",
    "合并结果是 [1,2,2,3,5,6] ，其中斜体加粗标注的为 nums1 中的元素。\n",
    "示例 2：\n",
    "\n",
    "输入：nums1 = [1], m = 1, nums2 = [], n = 0\n",
    "输出：[1]\n",
    "解释：需要合并 [1] 和 [] 。\n",
    "合并结果是 [1] 。\n",
    "示例 3：\n",
    "\n",
    "输入：nums1 = [0], m = 0, nums2 = [1], n = 1\n",
    "输出：[1]\n",
    "解释：需要合并的数组是 [] 和 [1] 。\n",
    "合并结果是 [1] 。\n",
    "注意，因为 m = 0 ，所以 nums1 中没有元素。nums1 中仅存的 0 仅仅是为了确保合并结果可以顺利存放到 nums1 中。\n",
    " \n",
    "\n",
    "提示：\n",
    "\n",
    "nums1.length == m + n\n",
    "nums2.length == n\n",
    "0 <= m, n <= 200\n",
    "1 <= m + n <= 200\n",
    "-109 <= nums1[i], nums2[j] <= 109\n",
    " \n",
    "\n",
    "进阶：你可以设计实现一个时间复杂度为 O(m + n) 的算法解决此问题吗？"
   ]
  },
  {
   "cell_type": "markdown",
   "id": "f888f1be-1650-48de-ba33-56583671cd05",
   "metadata": {},
   "source": [
    "1.最优算法设计思路\n",
    "为了最小化时间复杂度，我们可以采用双指针法，从后向前遍历 nums1 和 nums2，并将较大的元素放入 nums1 的末尾。这种方法避免了额外的空间开销，同时保证了时间复杂度为 O(m+n)。\n",
    "2.具体步骤：\n",
    "初始化两个指针 p1 和 p2，分别指向 nums1 和 nums2 的最后一个有效元素。\n",
    "初始化一个指针 p，指向 nums1 的最后一个位置（即 m + n - 1）。\n",
    "从后向前遍历，比较 nums1[p1] 和 nums2[p2]，将较大的值放入 nums1[p]，并移动相应的指针。\n",
    "如果 nums2 中还有剩余元素，直接将其复制到 nums1 的前面。\n",
    "3.时间复杂度与空间复杂度分析\n",
    "时间复杂度：O(m+n)，因为我们只需要遍历 nums1 和 nums2 各一次。\n",
    "空间复杂度：O(1)，没有使用额外的空间，所有操作都在原地完成。"
   ]
  },
  {
   "cell_type": "code",
   "execution_count": 1,
   "id": "869555ab-e7bf-44aa-be01-60221aff97cc",
   "metadata": {},
   "outputs": [
    {
     "name": "stdout",
     "output_type": "stream",
     "text": [
      "测试用例 1 输出: [1, 2, 2, 3, 5, 6]\n",
      "测试用例 2 输出: [1]\n",
      "测试用例 3 输出: [1]\n"
     ]
    }
   ],
   "source": [
    "def merge(nums1, m, nums2, n):\n",
    "    \"\"\"\n",
    "    合并两个有序数组到 nums1 中。\n",
    "    \n",
    "    :param nums1: List[int]，初始长度为 m + n，前 m 个元素有效\n",
    "    :param m: int，nums1 中有效元素的数量\n",
    "    :param nums2: List[int]，长度为 n，所有元素有效\n",
    "    :param n: int，nums2 中有效元素的数量\n",
    "    \"\"\"\n",
    "    # 初始化指针\n",
    "    p1 = m - 1  # nums1 的最后一个有效元素\n",
    "    p2 = n - 1  # nums2 的最后一个有效元素\n",
    "    p = m + n - 1  # nums1 的最后一个位置\n",
    "\n",
    "    # 从后向前遍历，将较大的元素放入 nums1 的末尾\n",
    "    while p1 >= 0 and p2 >= 0:\n",
    "        if nums1[p1] > nums2[p2]:\n",
    "            nums1[p] = nums1[p1]\n",
    "            p1 -= 1\n",
    "        else:\n",
    "            nums1[p] = nums2[p2]\n",
    "            p2 -= 1\n",
    "        p -= 1\n",
    "\n",
    "    # 如果 nums2 中还有剩余元素，直接复制到 nums1 的前面\n",
    "    if p2 >= 0:\n",
    "        nums1[:p2 + 1] = nums2[:p2 + 1]\n",
    "\n",
    "# 测试用例 1\n",
    "nums1 = [1, 2, 3, 0, 0, 0]\n",
    "m = 3\n",
    "nums2 = [2, 5, 6]\n",
    "n = 3\n",
    "merge(nums1, m, nums2, n)\n",
    "print(\"测试用例 1 输出:\", nums1)  # 输出: [1, 2, 2, 3, 5, 6]\n",
    "\n",
    "# 测试用例 2\n",
    "nums1 = [1]\n",
    "m = 1\n",
    "nums2 = []\n",
    "n = 0\n",
    "merge(nums1, m, nums2, n)\n",
    "print(\"测试用例 2 输出:\", nums1)  # 输出: [1]\n",
    "\n",
    "# 测试用例 3\n",
    "nums1 = [0]\n",
    "m = 0\n",
    "nums2 = [1]\n",
    "n = 1\n",
    "merge(nums1, m, nums2, n)\n",
    "print(\"测试用例 3 输出:\", nums1)  # 输出: [1]"
   ]
  },
  {
   "cell_type": "markdown",
   "id": "b1083f88-9528-4f19-9e3b-ae5ef9f74c03",
   "metadata": {},
   "source": [
    "代码说明\n",
    "指针初始化：p1 指向 nums1 的最后一个有效元素，p2 指向 nums2 的最后一个有效元素，p 指向 nums1 的最后一个位置。\n",
    "\n",
    "从后向前遍历：比较 nums1[p1] 和 nums2[p2]，将较大的值放入 nums1[p]，并移动相应的指针。\n",
    "\n",
    "处理剩余元素：如果 nums2 中还有剩余元素，直接将其覆盖到 nums1 的前面。\n",
    "\n",
    "测试用例\n",
    "测试用例 1：验证正常情况。\n",
    "\n",
    "测试用例 2：验证 nums2 为空的情况。\n",
    "\n",
    "测试用例 3：验证 nums1 初始为空的情况。"
   ]
  },
  {
   "cell_type": "code",
   "execution_count": 41,
   "id": "3225ad66-7a43-4aca-bf26-6a696a52becb",
   "metadata": {},
   "outputs": [
    {
     "name": "stdout",
     "output_type": "stream",
     "text": [
      "测试用例 1 输出: [1, 2, 2, 3, 5, 6]\n"
     ]
    }
   ],
   "source": [
    "#自己写的练习\n",
    "class Solution(object):\n",
    "    def merge(self, nums1, m, nums2, n):\n",
    "        \"\"\"\n",
    "        :type nums1: List[int]\n",
    "        :type m: int\n",
    "        :type nums2: List[int]\n",
    "        :type n: int\n",
    "        :rtype: None Do not return anything, modify nums1 in-place instead.\n",
    "        \"\"\"\n",
    "        #双指针从后往前遍历\n",
    "        p1=m-1\n",
    "        p2=n-1\n",
    "        p=m+n-1\n",
    "        while(p1>=0&p2>=0):\n",
    "            if(nums1[p1]>nums2[p2]):\n",
    "                nums1[p]=nums1[p1]\n",
    "                p1-=1\n",
    "            else:\n",
    "                nums1[p]=nums2[p2]\n",
    "                p2-=1\n",
    "            p-=1\n",
    "        if(p2>=0):\n",
    "            nums1[:p2+1]=nums2[:p2+1]\n",
    "# 测试用例 1\n",
    "nums1 = [1, 2, 3, 0, 0, 0]\n",
    "m = 3\n",
    "nums2 = [2, 5, 6]\n",
    "n = 3\n",
    "#调用函数准确写法到底是哪一种\n",
    "#Solution().merge(nums1, m, nums2, n)\n",
    "#print(\"测试用例 1 输出:\", nums1) \n",
    "merge(nums1, m, nums2, n)\n",
    "print(\"测试用例 1 输出:\", nums1)  # 输出: [1, 2, 2, 3, 5, 6]"
   ]
  },
  {
   "cell_type": "code",
   "execution_count": 45,
   "id": "60c3fc1f-6473-4090-bcce-6caf03ecb667",
   "metadata": {},
   "outputs": [
    {
     "name": "stdout",
     "output_type": "stream",
     "text": [
      "测试用例 1 输出: [1, 2, 2, 3, 5, 6]\n"
     ]
    }
   ],
   "source": [
    "nums1 = [1, 2, 3, 0, 0, 0]\n",
    "m = 3\n",
    "nums2 = [2, 5, 6]\n",
    "n = 3\n",
    "merge(nums1, m, nums2, n)\n",
    "#Solution().merge(nums1, m, nums2, n)\n",
    "print(\"测试用例 1 输出:\", nums1) #输出: [1, 2, 2, 3, 5, 6]\n",
    "# 输出: [6, 6, 2, 3, 5, 6]\n",
    "#merge应该是python里的函数不能调用的时候这么写"
   ]
  },
  {
   "cell_type": "code",
   "execution_count": 47,
   "id": "b12e611a-8c22-4272-b229-36f3cec4e882",
   "metadata": {},
   "outputs": [
    {
     "name": "stdout",
     "output_type": "stream",
     "text": [
      "测试用例 1 输出: [6, 6, 2, 3, 5, 6]\n"
     ]
    }
   ],
   "source": [
    "nums1 = [1, 2, 3, 0, 0, 0]\n",
    "m = 3\n",
    "nums2 = [2, 5, 6]\n",
    "n = 3\n",
    "# 创建 Solution 类的实例\n",
    "solution = Solution()\n",
    "# 调用 merge 方法\n",
    "solution.merge(nums1, m, nums2, n)\n",
    "\n",
    "print(\"测试用例 1 输出:\", nums1)\n",
    "#为什么"
   ]
  }
 ],
 "metadata": {
  "kernelspec": {
   "display_name": "Python 3 (ipykernel)",
   "language": "python",
   "name": "python3"
  },
  "language_info": {
   "codemirror_mode": {
    "name": "ipython",
    "version": 3
   },
   "file_extension": ".py",
   "mimetype": "text/x-python",
   "name": "python",
   "nbconvert_exporter": "python",
   "pygments_lexer": "ipython3",
   "version": "3.12.7"
  }
 },
 "nbformat": 4,
 "nbformat_minor": 5
}
