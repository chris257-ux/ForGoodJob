{
 "cells": [
  {
   "cell_type": "markdown",
   "id": "59718382-d87f-4ea0-a849-3141e7a38d19",
   "metadata": {},
   "source": [
    "给定字符串 s 和 t ，判断 s 是否为 t 的子序列。\n",
    "\n",
    "字符串的一个子序列是原始字符串删除一些（也可以不删除）字符而不改变剩余字符相对位置形成的新字符串。（例如，\"ace\"是\"abcde\"的一个子序列，而\"aec\"不是）。\n",
    "\n",
    "进阶：\n",
    "\n",
    "如果有大量输入的 S，称作 S1, S2, ... , Sk 其中 k >= 10亿，你需要依次检查它们是否为 T 的子序列。在这种情况下，你会怎样改变代码？\n",
    "\n",
    "致谢：\n",
    "\n",
    "特别感谢 @pbrother 添加此问题并且创建所有测试用例。\n",
    "\n",
    " \n",
    "\n",
    "示例 1：\n",
    "\n",
    "输入：s = \"abc\", t = \"ahbgdc\"\n",
    "输出：true\n",
    "示例 2：\n",
    "\n",
    "输入：s = \"axc\", t = \"ahbgdc\"\n",
    "输出：false\n",
    " \n",
    "\n",
    "提示：\n",
    "\n",
    "0 <= s.length <= 100\n",
    "0 <= t.length <= 10^4\n",
    "两个字符串都只由小写字符组成。"
   ]
  },
  {
   "cell_type": "markdown",
   "id": "5ee9e902-b0fc-440f-a803-70c3832c2f40",
   "metadata": {},
   "source": [
    "为了高效解决这个问题，我们可以采用双指针法：\n",
    "\n",
    "初始化两个指针 i 和 j，分别指向 s 和 t 的开头。\n",
    "\n",
    "遍历 t，如果 t[j] 等于 s[i]，则移动 i 指针。\n",
    "\n",
    "如果 i 移动到 s 的末尾，说明 s 是 t 的子序列，返回 true；否则返回 false。\n",
    "\n",
    "这种方法的时间复杂度为 O(n)，其中 n 是 t 的长度。\n",
    "\n",
    "进阶问题：处理大量输入的 s\n",
    "如果有大量输入的 s，我们可以预处理 t，构建一个字符到索引的映射表。对于每个 s，利用二分查找快速判断是否为子序列。这种方法的时间复杂度为 O(mlogn)，其中 m 是 s 的长度，n 是 t 的长度。\n",
    "\n",
    "时间复杂度与空间复杂度分析\n",
    "基础解法\n",
    "时间复杂度：O(n)，其中 n 是 t 的长度。\n",
    "\n",
    "空间复杂度：O(1)，没有使用额外的空间。\n",
    "\n",
    "进阶解法\n",
    "时间复杂度：O(mlogn)，其中 m 是 s 的长度，n 是 t 的长度。\n",
    "\n",
    "空间复杂度：O(n)，用于存储 t 的字符到索引的映射表"
   ]
  },
  {
   "cell_type": "code",
   "execution_count": 9,
   "id": "0d10f79d-2760-453c-93bf-9bc915caa86c",
   "metadata": {
    "scrolled": true
   },
   "outputs": [
    {
     "name": "stdout",
     "output_type": "stream",
     "text": [
      "3\n",
      "3\n",
      "6\n"
     ]
    },
    {
     "data": {
      "text/plain": [
       "True"
      ]
     },
     "execution_count": 9,
     "metadata": {},
     "output_type": "execute_result"
    }
   ],
   "source": [
    "def isSubsequence(s, t):\n",
    "    \"\"\"\n",
    "    :type s: str\n",
    "    :type t: str\n",
    "    :rtype: bool\n",
    "    \"\"\"\n",
    "    p1=0\n",
    "    p2=0\n",
    "    while p1<len(s) and p2<len(t):\n",
    "        if(s[p1]==t[p2]):\n",
    "            p1+=1\n",
    "            p2+=1\n",
    "        else:p2+=1\n",
    "    print(p1)\n",
    "    print(len(s))\n",
    "    print(p2)\n",
    "    return p1==len(s)\n",
    "s = \"abc\"\n",
    "t = \"ahbgdc\"\n",
    "isSubsequence(s, t)"
   ]
  },
  {
   "cell_type": "code",
   "execution_count": 11,
   "id": "9b89a034-bb0a-4a0a-8336-a7de17fb4c33",
   "metadata": {},
   "outputs": [
    {
     "name": "stdout",
     "output_type": "stream",
     "text": [
      "测试用例 1 输出: True\n",
      "测试用例 2 输出: False\n",
      "测试用例 3 输出: True\n"
     ]
    }
   ],
   "source": [
    "#进阶\n",
    "from bisect import bisect_left\n",
    "from collections import defaultdict\n",
    "\n",
    "def isSubsequenceAdvanced(s, t):\n",
    "    \"\"\"\n",
    "    判断 s 是否为 t 的子序列（适用于大量 s 的情况）。\n",
    "    \n",
    "    :param s: str，待判断的子序列\n",
    "    :param t: str，原始字符串\n",
    "    :return: bool，s 是否为 t 的子序列\n",
    "    \"\"\"\n",
    "    # 预处理 t，构建字符到索引的映射表\n",
    "    char_to_indices = defaultdict(list)\n",
    "    for idx, char in enumerate(t):\n",
    "        char_to_indices[char].append(idx)\n",
    "\n",
    "    # 初始化上一个匹配的索引\n",
    "    prev_idx = -1\n",
    "    for char in s:\n",
    "        if char not in char_to_indices:\n",
    "            return False\n",
    "        # 使用二分查找找到第一个大于 prev_idx 的索引\n",
    "        indices = char_to_indices[char]\n",
    "        i = bisect_left(indices, prev_idx + 1)\n",
    "        if i == len(indices):\n",
    "            return False\n",
    "        prev_idx = indices[i]\n",
    "    return True\n",
    "\n",
    "# 测试用例 1\n",
    "s = \"abc\"\n",
    "t = \"ahbgdc\"\n",
    "print(\"测试用例 1 输出:\", isSubsequenceAdvanced(s, t))  # 输出: True\n",
    "\n",
    "# 测试用例 2\n",
    "s = \"axc\"\n",
    "t = \"ahbgdc\"\n",
    "print(\"测试用例 2 输出:\", isSubsequenceAdvanced(s, t))  # 输出: False\n",
    "\n",
    "# 测试用例 3\n",
    "s = \"\"\n",
    "t = \"ahbgdc\"\n",
    "print(\"测试用例 3 输出:\", isSubsequenceAdvanced(s, t))  # 输出: True"
   ]
  },
  {
   "cell_type": "code",
   "execution_count": null,
   "id": "e48412b3-e410-412d-8521-b90140c02ea3",
   "metadata": {},
   "outputs": [],
   "source": []
  }
 ],
 "metadata": {
  "kernelspec": {
   "display_name": "Python 3 (ipykernel)",
   "language": "python",
   "name": "python3"
  },
  "language_info": {
   "codemirror_mode": {
    "name": "ipython",
    "version": 3
   },
   "file_extension": ".py",
   "mimetype": "text/x-python",
   "name": "python",
   "nbconvert_exporter": "python",
   "pygments_lexer": "ipython3",
   "version": "3.12.7"
  }
 },
 "nbformat": 4,
 "nbformat_minor": 5
}
