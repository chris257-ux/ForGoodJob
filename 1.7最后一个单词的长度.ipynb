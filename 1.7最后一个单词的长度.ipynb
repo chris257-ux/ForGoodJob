{
 "cells": [
  {
   "cell_type": "markdown",
   "id": "28ab73b8-bbc8-4c74-9225-9fa17bbdaaee",
   "metadata": {},
   "source": [
    "给你一个字符串 s，由若干单词组成，单词前后用一些空格字符隔开。返回字符串中 最后一个 单词的长度。\n",
    "\n",
    "单词 是指仅由字母组成、不包含任何空格字符的最大子字符串。\n",
    "\n",
    " \n",
    "\n",
    "示例 1：\n",
    "\n",
    "输入：s = \"Hello World\"\n",
    "输出：5\n",
    "解释：最后一个单词是“World”，长度为 5。\n",
    "示例 2：\n",
    "\n",
    "输入：s = \"   fly me   to   the moon  \"\n",
    "输出：4\n",
    "解释：最后一个单词是“moon”，长度为 4。\n",
    "示例 3：\n",
    "\n",
    "输入：s = \"luffy is still joyboy\"\n",
    "输出：6\n",
    "解释：最后一个单词是长度为 6 的“joyboy”。\n",
    " \n",
    "\n",
    "提示：\n",
    "\n",
    "1 <= s.length <= 104\n",
    "s 仅有英文字母和空格 ' ' 组成\n",
    "s 中至少存在一个单词\n"
   ]
  },
  {
   "cell_type": "markdown",
   "id": "5ea08230-0e5b-4f33-b36b-91c8e21e92fb",
   "metadata": {},
   "source": [
    "最优算法设计思路\n",
    "为了高效解决问题，我们可以采用以下方法：\n",
    "\n",
    "去除末尾空格：首先去掉字符串末尾的空格，以避免最后一个单词后面有多余空格影响结果。\n",
    "\n",
    "从后向前遍历：从字符串末尾开始向前遍历，找到最后一个空格的位置。\n",
    "\n",
    "计算长度：最后一个单词的长度即为字符串末尾到最后一个空格的位置之间的距离。\n",
    "\n",
    "这种方法的时间复杂度为 O(n)，其中 n 是字符串的长度。\n",
    "\n",
    "时间复杂度与空间复杂度分析\n",
    "时间复杂度：O(n)，只需遍历字符串一次。\n",
    "\n",
    "空间复杂度：O(1)，没有使用额外的空间。"
   ]
  },
  {
   "cell_type": "code",
   "execution_count": null,
   "id": "99ead2e6-d5bb-47fb-ae3d-af0cac0be4ed",
   "metadata": {},
   "outputs": [],
   "source": [
    "class Solution(object):\n",
    "    def lengthOfLastWord(self, s):\n",
    "        \"\"\"\n",
    "        :type s: str\n",
    "        :rtype: int\n",
    "        \"\"\"\n",
    "        # 去掉末尾的空格\n",
    "        s = s.rstrip()\n",
    "        count=0\n",
    "        # 使用 range() 生成递减的索引序列\n",
    "        for i in range(len(s) - 1, -1, -1):\n",
    "            if(s[i]==' '):\n",
    "                break\n",
    "            count+=1\n",
    "        return count\n"
   ]
  },
  {
   "cell_type": "code",
   "execution_count": null,
   "id": "13de2b0c-5292-4bdd-b662-04458078157e",
   "metadata": {},
   "outputs": [],
   "source": [
    "def lengthOfLastWord(s):\n",
    "    \"\"\"\n",
    "    返回字符串中最后一个单词的长度。\n",
    "    \n",
    "    :param s: str，输入字符串\n",
    "    :return: int，最后一个单词的长度\n",
    "    \"\"\"\n",
    "    # 去掉末尾的空格\n",
    "    s = s.rstrip()\n",
    "    length = 0  # 初始化最后一个单词的长度\n",
    "    \n",
    "    # 从后向前遍历\n",
    "    i = len(s) - 1\n",
    "    while i >= 0 and s[i] != ' ':\n",
    "        length += 1\n",
    "        i -= 1\n",
    "    \n",
    "    return length\n",
    "\n",
    "# 测试用例 1\n",
    "s = \"Hello World\"\n",
    "print(\"测试用例 1 输出:\", lengthOfLastWord(s))  # 输出: 5\n",
    "\n",
    "# 测试用例 2\n",
    "s = \"   fly me   to   the moon  \"\n",
    "print(\"测试用例 2 输出:\", lengthOfLastWord(s))  # 输出: 4\n",
    "\n",
    "# 测试用例 3\n",
    "s = \"luffy is still joyboy\"\n",
    "print(\"测试用例 3 输出:\", lengthOfLastWord(s))  # 输出: 6"
   ]
  }
 ],
 "metadata": {
  "kernelspec": {
   "display_name": "Python 3 (ipykernel)",
   "language": "python",
   "name": "python3"
  },
  "language_info": {
   "codemirror_mode": {
    "name": "ipython",
    "version": 3
   },
   "file_extension": ".py",
   "mimetype": "text/x-python",
   "name": "python",
   "nbconvert_exporter": "python",
   "pygments_lexer": "ipython3",
   "version": "3.12.7"
  }
 },
 "nbformat": 4,
 "nbformat_minor": 5
}
