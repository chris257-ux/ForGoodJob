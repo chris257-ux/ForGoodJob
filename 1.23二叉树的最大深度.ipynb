{
 "cells": [
  {
   "cell_type": "markdown",
   "id": "f70139da-017d-46fb-9df9-8ead71c7ac38",
   "metadata": {},
   "source": [
    "给定一个二叉树 root ，返回其最大深度。\n",
    "\n",
    "二叉树的 最大深度 是指从根节点到最远叶子节点的最长路径上的节点数。\n",
    "\n",
    " \n",
    "\n",
    "示例 1：\n",
    "\n",
    "输入：root = [3,9,20,null,null,15,7]\n",
    "输出：3\n",
    "示例 2：\n",
    "\n",
    "输入：root = [1,null,2]\n",
    "输出：2\n",
    " \n",
    "\n",
    "提示：\n",
    "\n",
    "树中节点的数量在 [0, 104] 区间内。\n",
    "-100 <= Node.val <= 100"
   ]
  },
  {
   "cell_type": "markdown",
   "id": "da157e5e-2cae-49bb-9ced-5e8e60edd823",
   "metadata": {},
   "source": [
    "最优算法设计思路\n",
    "使用 递归法 计算二叉树的最大深度：\n",
    "\n",
    "若当前节点为空，返回深度 0。\n",
    "\n",
    "递归计算左子树和右子树的最大深度。\n",
    "\n",
    "返回左右子树深度的最大值加 1（当前节点的深度）。\n",
    "\n",
    "时间复杂度与空间复杂度分析\n",
    "时间复杂度：O(n)，其中 n 是二叉树的节点数。每个节点被访问一次。\n",
    "\n",
    "空间复杂度：O(h)，其中 h 是二叉树的高度。递归调用栈的深度最多为 h。"
   ]
  },
  {
   "cell_type": "code",
   "execution_count": null,
   "id": "4005d002-dcd8-4dbf-b714-f751be8c1232",
   "metadata": {},
   "outputs": [],
   "source": [
    "class TreeNode:\n",
    "    def __init__(self, val=0, left=None, right=None):\n",
    "        self.val = val\n",
    "        self.left = left\n",
    "        self.right = right\n",
    "\n",
    "def maxDepth(root):\n",
    "    if not root:\n",
    "        return 0\n",
    "    left_depth = maxDepth(root.left)  # 计算左子树深度\n",
    "    right_depth = maxDepth(root.right)  # 计算右子树深度\n",
    "    return max(left_depth, right_depth) + 1  # 返回最大深度加 1\n",
    "\n",
    "# 辅助函数：根据列表构建二叉树\n",
    "def build_tree(lst, index=0):\n",
    "    if index >= len(lst) or lst[index] is None:\n",
    "        return None\n",
    "    root = TreeNode(lst[index])\n",
    "    root.left = build_tree(lst, 2 * index + 1)\n",
    "    root.right = build_tree(lst, 2 * index + 2)\n",
    "    return root\n",
    "\n",
    "# 测试用例 1\n",
    "lst1 = [3, 9, 20, None, None, 15, 7]\n",
    "root1 = build_tree(lst1)\n",
    "print(\"测试用例 1 输出:\", maxDepth(root1))  # 输出: 3\n",
    "\n",
    "# 测试用例 2\n",
    "lst2 = [1, None, 2]\n",
    "root2 = build_tree(lst2)\n",
    "print(\"测试用例 2 输出:\", maxDepth(root2))  # 输出: 2\n",
    "\n",
    "# 测试用例 3\n",
    "lst3 = []\n",
    "root3 = build_tree(lst3)\n",
    "print(\"测试用例 3 输出:\", maxDepth(root3))  # 输出: 00"
   ]
  },
  {
   "cell_type": "code",
   "execution_count": 2,
   "id": "a468fea6-d478-4ee9-abd1-dc88f38d8fd1",
   "metadata": {},
   "outputs": [],
   "source": [
    "# Definition for a binary tree node.\n",
    "class TreeNode(object):\n",
    "    def __init__(self, val=0, left=None, right=None):\n",
    "        self.val = val\n",
    "        self.left = left\n",
    "        self.right = right\n",
    "class Solution(object):\n",
    "    def maxDepth(self, root):\n",
    "        \"\"\"\n",
    "        :type root: Optional[TreeNode]\n",
    "        :rtype: int\n",
    "        \"\"\"\n",
    "        if not root:\n",
    "            return 0\n",
    "        leftlen=self.maxDepth(root.left)\n",
    "        rightlen=self.maxDepth(root.right)\n",
    "        return max(leftlen,rightlen)+1\n",
    "\n",
    "        "
   ]
  },
  {
   "cell_type": "code",
   "execution_count": null,
   "id": "33fbc046-9205-45bf-90db-9af34fbc28ab",
   "metadata": {},
   "outputs": [],
   "source": []
  }
 ],
 "metadata": {
  "kernelspec": {
   "display_name": "Python 3 (ipykernel)",
   "language": "python",
   "name": "python3"
  },
  "language_info": {
   "codemirror_mode": {
    "name": "ipython",
    "version": 3
   },
   "file_extension": ".py",
   "mimetype": "text/x-python",
   "name": "python",
   "nbconvert_exporter": "python",
   "pygments_lexer": "ipython3",
   "version": "3.12.7"
  }
 },
 "nbformat": 4,
 "nbformat_minor": 5
}
