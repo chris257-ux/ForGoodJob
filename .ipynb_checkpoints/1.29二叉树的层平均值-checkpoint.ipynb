{
 "cells": [
  {
   "cell_type": "markdown",
   "id": "9dc833c1-55aa-46b6-9993-5dda558e59dc",
   "metadata": {},
   "source": [
    "给定一个非空二叉树的根节点 root , 以数组的形式返回每一层节点的平均值。与实际答案相差 10-5 以内的答案可以被接受。\n",
    "\n",
    " \n",
    "\n",
    "示例 1：\n",
    "\n",
    "\n",
    "\n",
    "输入：root = [3,9,20,null,null,15,7]\n",
    "输出：[3.00000,14.50000,11.00000]\n",
    "解释：第 0 层的平均值为 3,第 1 层的平均值为 14.5,第 2 层的平均值为 11 。\n",
    "因此返回 [3, 14.5, 11] 。\n",
    "示例 2:\n",
    "\n",
    "\n",
    "\n",
    "输入：root = [3,9,20,15,7]\n",
    "输出：[3.00000,14.50000,11.00000]\n",
    " \n",
    "\n",
    "提示：\n",
    "\n",
    "树中节点数量在 [1, 104] 范围内\n",
    "-231 <= Node.val <= 231 - 1"
   ]
  },
  {
   "cell_type": "raw",
   "id": "3ed68f18-1188-47f2-8be1-504aac42a7f0",
   "metadata": {},
   "source": [
    "最优算法设计思路\n",
    "使用 层次遍历（BFS） 逐层遍历二叉树：\n",
    "\n",
    "初始化队列，将根节点加入队列。\n",
    "\n",
    "遍历当前层的所有节点，计算节点值的和及节点数量。\n",
    "\n",
    "将当前层的平均值加入结果数组。\n",
    "\n",
    "将下一层的节点加入队列，重复上述步骤。\n",
    "\n",
    "时间复杂度与空间复杂度分析\n",
    "时间复杂度：O(n)，其中 n 是二叉树的节点数。每个节点被访问一次。\n",
    "\n",
    "空间复杂度：O(m)，其中 m 是二叉树的最大宽度。队列中最多存储一层的节点。"
   ]
  },
  {
   "cell_type": "code",
   "execution_count": 2,
   "id": "35967f34-26f2-4dd1-99f0-d4377b3a29f3",
   "metadata": {},
   "outputs": [
    {
     "name": "stdout",
     "output_type": "stream",
     "text": [
      "测试用例 1 输出: [3.0, 14.5, 11.0]\n",
      "测试用例 2 输出: [3.0, 14.5, 11.0]\n",
      "测试用例 3 输出: [1.0]\n",
      "测试用例 4 输出: [1.0, 2.5, 5.5]\n"
     ]
    }
   ],
   "source": [
    "from collections import deque\n",
    "\n",
    "class TreeNode:\n",
    "    def __init__(self, val=0, left=None, right=None):\n",
    "        self.val = val\n",
    "        self.left = left\n",
    "        self.right = right\n",
    "\n",
    "def averageOfLevels(root):\n",
    "    if not root:\n",
    "        return []\n",
    "    \n",
    "    result = []\n",
    "    queue = deque([root])  # 初始化队列\n",
    "    \n",
    "    while queue:\n",
    "        level_size = len(queue)  # 当前层的节点数\n",
    "        level_sum = 0  # 当前层的节点值之和\n",
    "        \n",
    "        for _ in range(level_size):\n",
    "            node = queue.popleft()\n",
    "            level_sum += node.val\n",
    "            if node.left:\n",
    "                queue.append(node.left)\n",
    "            if node.right:\n",
    "                queue.append(node.right)\n",
    "        \n",
    "        result.append(level_sum / level_size)  # 计算平均值并加入结果数组\n",
    "    \n",
    "    return result\n",
    "\n",
    "# 辅助函数：根据列表构建二叉树\n",
    "def build_tree(lst, index=0):\n",
    "    if index >= len(lst) or lst[index] is None:\n",
    "        return None\n",
    "    root = TreeNode(lst[index])\n",
    "    root.left = build_tree(lst, 2 * index + 1)\n",
    "    root.right = build_tree(lst, 2 * index + 2)\n",
    "    return root\n",
    "\n",
    "# 测试用例 1\n",
    "root1 = build_tree([3, 9, 20, None, None, 15, 7])\n",
    "print(\"测试用例 1 输出:\", averageOfLevels(root1))  # 输出: [3.0, 14.5, 11.0]\n",
    "\n",
    "# 测试用例 2\n",
    "root2 = build_tree([3, 9, 20, 15, 7])\n",
    "print(\"测试用例 2 输出:\", averageOfLevels(root2))  # 输出: [3.0, 14.5, 11.0]\n",
    "\n",
    "# 测试用例 3\n",
    "root3 = build_tree([1])\n",
    "print(\"测试用例 3 输出:\", averageOfLevels(root3))  # 输出: [1.0]\n",
    "\n",
    "# 测试用例 4\n",
    "root4 = build_tree([1, 2, 3, 4, 5, 6, 7])\n",
    "print(\"测试用例 4 输出:\", averageOfLevels(root4))  # 输出: [1.0, 2.5, 5.5]"
   ]
  },
  {
   "attachments": {},
   "cell_type": "markdown",
   "id": "1f295cb8-1b68-4158-8450-7b010b54d1f1",
   "metadata": {},
   "source": [
    "虽然上述正确输出了，但在leetcode断不知道为什么遇到了小数点后不能正确输出,官方题解还有别人写的题解也是一样的\n",
    "输入\n",
    "root =\n",
    "[3,9,20,15,7]\n",
    "怎么会输出\n",
    "[3.00000,14.00000,11.00000]\n",
    "我想要的输出是[3.00000,14.50000,11.00000]"
   ]
  },
  {
   "cell_type": "code",
   "execution_count": null,
   "id": "81f22341-10db-4370-a346-7448b935d194",
   "metadata": {},
   "outputs": [],
   "source": [
    "#官方题解\n"
   ]
  }
 ],
 "metadata": {
  "kernelspec": {
   "display_name": "Python 3 (ipykernel)",
   "language": "python",
   "name": "python3"
  },
  "language_info": {
   "codemirror_mode": {
    "name": "ipython",
    "version": 3
   },
   "file_extension": ".py",
   "mimetype": "text/x-python",
   "name": "python",
   "nbconvert_exporter": "python",
   "pygments_lexer": "ipython3",
   "version": "3.12.7"
  }
 },
 "nbformat": 4,
 "nbformat_minor": 5
}
