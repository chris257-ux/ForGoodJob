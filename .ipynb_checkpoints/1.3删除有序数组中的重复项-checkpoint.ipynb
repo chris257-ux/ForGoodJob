{
 "cells": [
  {
   "cell_type": "markdown",
   "id": "8a0e9b19-ee0f-4f83-b7e1-80b973283ce4",
   "metadata": {},
   "source": [
    "给你一个 非严格递增排列 的数组 nums ，请你 原地 删除重复出现的元素，使每个元素 只出现一次 ，返回删除后数组的新长度。元素的 相对顺序 应该保持 一致 。然后返回 nums 中唯一元素的个数。\n",
    "\n",
    "考虑 nums 的唯一元素的数量为 k ，你需要做以下事情确保你的题解可以被通过：\n",
    "\n",
    "更改数组 nums ，使 nums 的前 k 个元素包含唯一元素，并按照它们最初在 nums 中出现的顺序排列。nums 的其余元素与 nums 的大小不重要。\n",
    "返回 k 。\n",
    "判题标准:\n",
    "\n",
    "系统会用下面的代码来测试你的题解:\n",
    "\n",
    "int[] nums = [...]; // 输入数组\n",
    "int[] expectedNums = [...]; // 长度正确的期望答案\n",
    "\n",
    "int k = removeDuplicates(nums); // 调用\n",
    "\n",
    "assert k == expectedNums.length;\n",
    "for (int i = 0; i < k; i++) {\n",
    "    assert nums[i] == expectedNums[i];\n",
    "}\n",
    "如果所有断言都通过，那么您的题解将被 通过。\n",
    "\n",
    " \n",
    "\n",
    "示例 1：\n",
    "\n",
    "输入：nums = [1,1,2]\n",
    "输出：2, nums = [1,2,_]\n",
    "解释：函数应该返回新的长度 2 ，并且原数组 nums 的前两个元素被修改为 1, 2 。不需要考虑数组中超出新长度后面的元素。\n",
    "示例 2：\n",
    "\n",
    "输入：nums = [0,0,1,1,1,2,2,3,3,4]\n",
    "输出：5, nums = [0,1,2,3,4]\n",
    "解释：函数应该返回新的长度 5 ， 并且原数组 nums 的前五个元素被修改为 0, 1, 2, 3, 4 。不需要考虑数组中超出新长度后面的元素。\n",
    " \n",
    "\n",
    "提示：\n",
    "\n",
    "1 <= nums.length <= 3 * 104\n",
    "-104 <= nums[i] <= 104\n",
    "nums 已按 非严格递增 排列"
   ]
  },
  {
   "cell_type": "markdown",
   "id": "57fe8235-f9e8-491a-9291-eaff597be489",
   "metadata": {},
   "source": [
    "最优算法设计思路\n",
    "由于数组已经是非严格递增排列的，重复的元素一定是相邻的。我们可以使用双指针法：\n",
    "\n",
    "使用一个指针 k 记录唯一元素的位置。\n",
    "\n",
    "遍历数组，如果当前元素 nums[i] 不等于 nums[k]，则将其赋值给 nums[k + 1]，并递增 k。\n",
    "\n",
    "最终返回 k + 1，即为新数组的长度。\n",
    "\n",
    "这种方法的时间复杂度为 O(n)，空间复杂度为O(1)。\n"
   ]
  },
  {
   "cell_type": "code",
   "execution_count": 27,
   "id": "05e87cda-df10-4d0e-973c-12e8e756a336",
   "metadata": {},
   "outputs": [
    {
     "name": "stdout",
     "output_type": "stream",
     "text": [
      "测试1通过！\n"
     ]
    }
   ],
   "source": [
    "class Solution(object):\n",
    "    def removeDuplicates(self, nums):\n",
    "        \"\"\"\n",
    "        :type nums: List[int]\n",
    "        :rtype: int\n",
    "        \"\"\"\n",
    "        k=0\n",
    "        for i in range(1,len(nums)):\n",
    "            if (nums[i]!=nums[k]):\n",
    "                k+=1\n",
    "                nums[k]=nums[i]\n",
    "        return k+1\n",
    "# 创建 Solution 类的实例\n",
    "solution = Solution()\n",
    "# 测试用例 1\n",
    "nums = [1, 1, 2]\n",
    "expectedNums = [1, 2] \n",
    "k = solution.removeDuplicates(nums)\n",
    "assert k == len(expectedNums)\n",
    "for i in range(k):\n",
    "    assert nums[i] == expectedNums[i]\n",
    "print(\"测试1通过！\")\n",
    "# 测试用例 2\n",
    "nums = [0, 0, 1, 1, 1, 2, 2, 3, 3, 4]\n",
    "expectedNums = [0, 1, 2, 3, 4]\n",
    "k = solution.removeDuplicates(nums)\n",
    "assert k == len(expectedNums)\n",
    "for i in range(k):\n",
    "    assert nums[i] == expectedNums[i]\n",
    "print(\"测试2通过！\")\n"
   ]
  },
  {
   "cell_type": "code",
   "execution_count": null,
   "id": "56ab10f4-5bf6-42b4-b9f6-256e5126367b",
   "metadata": {},
   "outputs": [],
   "source": []
  }
 ],
 "metadata": {
  "kernelspec": {
   "display_name": "Python 3 (ipykernel)",
   "language": "python",
   "name": "python3"
  },
  "language_info": {
   "codemirror_mode": {
    "name": "ipython",
    "version": 3
   },
   "file_extension": ".py",
   "mimetype": "text/x-python",
   "name": "python",
   "nbconvert_exporter": "python",
   "pygments_lexer": "ipython3",
   "version": "3.12.7"
  }
 },
 "nbformat": 4,
 "nbformat_minor": 5
}
