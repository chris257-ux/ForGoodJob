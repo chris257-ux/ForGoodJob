{
 "cells": [
  {
   "cell_type": "markdown",
   "id": "ea489545-6ee9-4a49-b66b-17b943d2a871",
   "metadata": {},
   "source": [
    "给定一个大小为 n 的数组 nums ，返回其中的多数元素。多数元素是指在数组中出现次数 大于 ⌊ n/2 ⌋ 的元素。\n",
    "\n",
    "你可以假设数组是非空的，并且给定的数组总是存在多数元素。\n",
    "\n",
    " \n",
    "\n",
    "示例 1：\n",
    "\n",
    "输入：nums = [3,2,3]\n",
    "输出：3\n",
    "示例 2：\n",
    "\n",
    "输入：nums = [2,2,1,1,1,2,2]\n",
    "输出：2\n",
    " \n",
    "\n",
    "提示：\n",
    "n == nums.length\n",
    "1 <= n <= 5 * 104\n",
    "-109 <= nums[i] <= 109\n",
    " \n",
    "\n",
    "进阶：尝试设计时间复杂度为 O(n)、空间复杂度为 O(1) 的算法解决此问题。"
   ]
  },
  {
   "cell_type": "markdown",
   "id": "8770767a-1f3c-4fd7-b148-6b129d61e613",
   "metadata": {},
   "source": [
    "最优算法设计思路\n",
    "为了满足时间复杂度为O(n) 和空间复杂度为O(1) 的要求，我们可以使用 Boyer-Moore 投票算法。该算法的核心思想是通过抵消不同的元素来找到多数元素。\n",
    "\n",
    "具体步骤：\n",
    "初始化一个候选元素 candidate 和计数器 count。\n",
    "\n",
    "遍历数组：\n",
    "如果 count 为 0，则将当前元素设为候选元素 candidate。\n",
    "如果当前元素等于 candidate，则 count 加 1；否则 count 减 1。\n",
    "遍历结束后，candidate 即为多数元素。\n",
    "\n",
    "时间复杂度与空间复杂度分析\n",
    "时间复杂度：O(n)，只需遍历数组一次。\n",
    "空间复杂度：O(1)，只使用了常数级别的额外空间。"
   ]
  },
  {
   "cell_type": "code",
   "execution_count": 7,
   "id": "7e2c1c0a-b59e-42ee-a6dd-5fe8e11a9864",
   "metadata": {},
   "outputs": [
    {
     "name": "stdout",
     "output_type": "stream",
     "text": [
      "测试用例 1 输出: 3\n",
      "测试用例 2 输出: 2\n",
      "测试用例 3 输出: 1\n",
      "测试用例 4 输出: 5\n"
     ]
    }
   ],
   "source": [
    "class Solution(object):\n",
    "    def majorityElement(self, nums):\n",
    "        \"\"\"\n",
    "        :type nums: List[int]\n",
    "        :rtype: int\n",
    "        \"\"\"\n",
    "        #寻找多数元素的投票算法：Boyer-Moore\n",
    "        candidate=0\n",
    "        count=0\n",
    "        for num in nums:\n",
    "            if count==0:\n",
    "                count=1\n",
    "                candidate=num\n",
    "            elif num==candidate:\n",
    "                count+=1\n",
    "            else:count-=1\n",
    "        return candidate\n",
    "solution=Solution()\n",
    "# 测试用例 1\n",
    "nums = [3, 2, 3]\n",
    "result = solution.majorityElement(nums)\n",
    "print(\"测试用例 1 输出:\", result)  # 输出: 3\n",
    "\n",
    "# 测试用例 2\n",
    "nums = [2, 2, 1, 1, 1, 2, 2]\n",
    "result = solution.majorityElement(nums)\n",
    "print(\"测试用例 2 输出:\", result)  # 输出: 2\n",
    "\n",
    "# 测试用例 3\n",
    "nums = [1]\n",
    "result = solution.majorityElement(nums)\n",
    "print(\"测试用例 3 输出:\", result)  # 输出: 1\n",
    "\n",
    "# 测试用例 4\n",
    "nums = [6, 5, 5]\n",
    "result = solution.majorityElement(nums)\n",
    "print(\"测试用例 4 输出:\", result)  # 输出: 5"
   ]
  }
 ],
 "metadata": {
  "kernelspec": {
   "display_name": "Python 3 (ipykernel)",
   "language": "python",
   "name": "python3"
  },
  "language_info": {
   "codemirror_mode": {
    "name": "ipython",
    "version": 3
   },
   "file_extension": ".py",
   "mimetype": "text/x-python",
   "name": "python",
   "nbconvert_exporter": "python",
   "pygments_lexer": "ipython3",
   "version": "3.12.7"
  }
 },
 "nbformat": 4,
 "nbformat_minor": 5
}
