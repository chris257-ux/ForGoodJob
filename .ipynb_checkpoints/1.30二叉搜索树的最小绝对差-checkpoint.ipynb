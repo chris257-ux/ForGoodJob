{
 "cells": [
  {
   "cell_type": "markdown",
   "id": "56b44391-f088-4a0d-922d-02681b2545ca",
   "metadata": {},
   "source": [
    "给你一个二叉搜索树的根节点 root ，返回 树中任意两不同节点值之间的最小差值 。\n",
    "\n",
    "差值是一个正数，其数值等于两值之差的绝对值。\n",
    "\n",
    " \n",
    "\n",
    "示例 1：\n",
    "\n",
    "\n",
    "输入：root = [4,2,6,1,3]\n",
    "输出：1\n",
    "示例 2：\n",
    "\n",
    "\n",
    "输入：root = [1,0,48,null,null,12,49]\n",
    "输出：1\n",
    " \n",
    "\n",
    "提示：\n",
    "\n",
    "树中节点的数目范围是 [2, 104]\n",
    "0 <= Node.val <= 105"
   ]
  },
  {
   "cell_type": "markdown",
   "id": "0eeafa2b-32d2-4aca-b937-fe137f83aeb8",
   "metadata": {},
   "source": []
  },
  {
   "cell_type": "code",
   "execution_count": null,
   "id": "b6880f50-fbd6-4ed6-a4ab-7a040160d744",
   "metadata": {},
   "outputs": [],
   "source": []
  }
 ],
 "metadata": {
  "kernelspec": {
   "display_name": "Python 3 (ipykernel)",
   "language": "python",
   "name": "python3"
  },
  "language_info": {
   "codemirror_mode": {
    "name": "ipython",
    "version": 3
   },
   "file_extension": ".py",
   "mimetype": "text/x-python",
   "name": "python",
   "nbconvert_exporter": "python",
   "pygments_lexer": "ipython3",
   "version": "3.12.7"
  }
 },
 "nbformat": 4,
 "nbformat_minor": 5
}
