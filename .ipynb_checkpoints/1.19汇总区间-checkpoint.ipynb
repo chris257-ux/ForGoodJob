{
 "cells": [
  {
   "cell_type": "markdown",
   "id": "23f0a855-6c95-4101-a420-3bc180a89843",
   "metadata": {},
   "source": [
    "给定一个  无重复元素 的 有序 整数数组 nums 。\n",
    "\n",
    "返回 恰好覆盖数组中所有数字 的 最小有序 区间范围列表 。也就是说，nums 的每个元素都恰好被某个区间范围所覆盖，并且不存在属于某个范围但不属于 nums 的数字 x 。\n",
    "\n",
    "列表中的每个区间范围 [a,b] 应该按如下格式输出：\n",
    "\n",
    "\"a->b\" ，如果 a != b\n",
    "\"a\" ，如果 a == b\n",
    " \n",
    "\n",
    "示例 1：\n",
    "\n",
    "输入：nums = [0,1,2,4,5,7]\n",
    "输出：[\"0->2\",\"4->5\",\"7\"]\n",
    "解释：区间范围是：\n",
    "[0,2] --> \"0->2\"\n",
    "[4,5] --> \"4->5\"\n",
    "[7,7] --> \"7\"\n",
    "示例 2：\n",
    "\n",
    "输入：nums = [0,2,3,4,6,8,9]\n",
    "输出：[\"0\",\"2->4\",\"6\",\"8->9\"]\n",
    "解释：区间范围是：\n",
    "[0,0] --> \"0\"\n",
    "[2,4] --> \"2->4\"\n",
    "[6,6] --> \"6\"\n",
    "[8,9] --> \"8->9\"\n",
    " \n",
    "\n",
    "提示：\n",
    "\n",
    "0 <= nums.length <= 20\n",
    "-231 <= nums[i] <= 231 - 1\n",
    "nums 中的所有值都 互不相同\n",
    "nums 按升序排列"
   ]
  },
  {
   "cell_type": "markdown",
   "id": "e6319c6d-6693-4b4d-b087-e7624c719825",
   "metadata": {},
   "source": [
    "f-string 是 Python 3.6 及更高版本中引入的特性。如果你的 Python 环境是 Python 3.5 或更低版本，那么 f-string 语法是不支持的，会导致 SyntaxError: invalid syntax"
   ]
  },
  {
   "cell_type": "markdown",
   "id": "18e86002-1a97-4252-849c-16b82bbaa49e",
   "metadata": {},
   "source": [
    "最优算法设计思路\n",
    "使用 双指针法 遍历数组，找到连续数字的区间：\n",
    "\n",
    "初始化指针 start 和 end，分别指向当前区间的起始和结束位置。\n",
    "\n",
    "遍历数组，若当前数字与下一个数字连续，则扩展区间；否则，记录当前区间并更新 start 和 end。\n",
    "\n",
    "根据区间起始和结束位置生成区间字符串。\n",
    "\n",
    "时间复杂度与空间复杂度分析\n",
    "时间复杂度：O(n)，只需一次遍历。\n",
    "\n",
    "空间复杂度：O(1)，忽略输出空间，仅使用常数空间。"
   ]
  },
  {
   "cell_type": "code",
   "execution_count": 1,
   "id": "dbf45740-dfd0-479a-b4f8-d95b5f78ff2d",
   "metadata": {},
   "outputs": [
    {
     "name": "stdout",
     "output_type": "stream",
     "text": [
      "测试用例 1 输出: ['0->2', '4->5', '7']\n",
      "测试用例 2 输出: ['0', '2->4', '6', '8->9']\n",
      "测试用例 3 输出: []\n",
      "测试用例 4 输出: ['1']\n"
     ]
    }
   ],
   "source": [
    "#ranges.append(f\"{start}->{end}\")\n",
    "def summaryRanges(nums):\n",
    "    if not nums:\n",
    "        return []\n",
    "    \n",
    "    ranges = []\n",
    "    start = end = nums[0]\n",
    "    \n",
    "    for i in range(1, len(nums)):\n",
    "        if nums[i] == end + 1:\n",
    "            end = nums[i]  # 扩展区间\n",
    "        else:\n",
    "            if start == end:\n",
    "                ranges.append(f\"{start}\")\n",
    "            else:\n",
    "                ranges.append(f\"{start}->{end}\")\n",
    "            start = end = nums[i]  # 开始新区间\n",
    "    \n",
    "    # 处理最后一个区间\n",
    "    if start == end:\n",
    "        ranges.append(f\"{start}\")\n",
    "    else:\n",
    "        ranges.append(f\"{start}->{end}\")\n",
    "    \n",
    "    return ranges\n",
    "\n",
    "# 测试用例 1\n",
    "nums1 = [0, 1, 2, 4, 5, 7]\n",
    "print(\"测试用例 1 输出:\", summaryRanges(nums1))  # 输出: [\"0->2\",\"4->5\",\"7\"]\n",
    "\n",
    "# 测试用例 2\n",
    "nums2 = [0, 2, 3, 4, 6, 8, 9]\n",
    "print(\"测试用例 2 输出:\", summaryRanges(nums2))  # 输出: [\"0\",\"2->4\",\"6\",\"8->9\"]\n",
    "\n",
    "# 测试用例 3\n",
    "nums3 = []\n",
    "print(\"测试用例 3 输出:\", summaryRanges(nums3))  # 输出: []\n",
    "\n",
    "# 测试用例 4\n",
    "nums4 = [1]\n",
    "print(\"测试用例 4 输出:\", summaryRanges(nums4))  # 输出: [\"1\"]"
   ]
  },
  {
   "cell_type": "code",
   "execution_count": 8,
   "id": "e3fac645-cdf0-4142-999e-c6f887f25e21",
   "metadata": {},
   "outputs": [],
   "source": [
    "#ranges.append(\"{}->{}\".format(start, end))\n",
    "class Solution(object):\n",
    "    def summaryRanges(self, nums):\n",
    "        \"\"\"\n",
    "        :type nums: List[int]\n",
    "        :rtype: List[str]\n",
    "        \"\"\"\n",
    "        if not nums:\n",
    "            return []\n",
    "        ranges = []\n",
    "        start = end = nums[0]\n",
    "        \n",
    "        for i in range(1, len(nums)):\n",
    "            if nums[i] == end + 1:\n",
    "                end = nums[i]  # 扩展区间\n",
    "            else:\n",
    "                if start == end:\n",
    "                    #ranges.append(f\"{start}\")\n",
    "                    ranges.append(\"{}\".format(start))\n",
    "                else:\n",
    "                    #ranges.append(f\"{start}->{end}\")\n",
    "                    ranges.append(\"{}->{}\".format(start, end))\n",
    "                start = end = nums[i]  # 开始新区间\n",
    "        \n",
    "        # 处理最后一个区间\n",
    "        if start == end:\n",
    "            ranges.append(\"{}\".format(start))\n",
    "        else:\n",
    "            ranges.append(\"{}->{}\".format(start, end))\n",
    "        \n",
    "        return ranges"
   ]
  },
  {
   "cell_type": "code",
   "execution_count": null,
   "id": "4e11888b-6ff2-4a15-84c8-9d3f3c2bb5a8",
   "metadata": {},
   "outputs": [],
   "source": [
    "#使用字符串拼接\n",
    "ranges.append(str(start) + \"->\" + str(end))"
   ]
  }
 ],
 "metadata": {
  "kernelspec": {
   "display_name": "Python 3 (ipykernel)",
   "language": "python",
   "name": "python3"
  },
  "language_info": {
   "codemirror_mode": {
    "name": "ipython",
    "version": 3
   },
   "file_extension": ".py",
   "mimetype": "text/x-python",
   "name": "python",
   "nbconvert_exporter": "python",
   "pygments_lexer": "ipython3",
   "version": "3.12.7"
  }
 },
 "nbformat": 4,
 "nbformat_minor": 5
}
