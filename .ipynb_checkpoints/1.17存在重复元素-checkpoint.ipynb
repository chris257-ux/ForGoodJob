{
 "cells": [
  {
   "cell_type": "markdown",
   "id": "67300bb0-0e50-43a6-982e-7ca7086db3e2",
   "metadata": {},
   "source": [
    "219. 存在重复元素 II\n",
    "已解答\n",
    "简单\n",
    "相关标签\n",
    "相关企业\n",
    "给你一个整数数组 nums 和一个整数 k ，判断数组中是否存在两个 不同的索引 i 和 j ，满足 nums[i] == nums[j] 且 abs(i - j) <= k 。如果存在，返回 true ；否则，返回 false 。\n",
    "\n",
    " \n",
    "\n",
    "示例 1：\n",
    "\n",
    "输入：nums = [1,2,3,1], k = 3\n",
    "输出：true\n",
    "示例 2：\n",
    "\n",
    "输入：nums = [1,0,1,1], k = 1\n",
    "输出：true\n",
    "示例 3：\n",
    "\n",
    "输入：nums = [1,2,3,1,2,3], k = 2\n",
    "输出：false\n",
    " \n",
    "\n",
    " \n",
    "\n",
    "提示：\n",
    "\n",
    "1 <= nums.length <= 105\n",
    "-109 <= nums[i] <= 109\n",
    "0 <= k <= 105"
   ]
  },
  {
   "cell_type": "markdown",
   "id": "1b839e8a-7470-489d-93ba-7d7d25b7b367",
   "metadata": {},
   "source": [
    "最优算法设计思路\n",
    "使用 哈希表 记录每个元素最后一次出现的索引。遍历数组时，若当前元素已在哈希表中且与上一次出现的距离满足 <= k，则返回 True；否则更新哈希表。这种方法确保每次比较的是最近的索引，保证最小距离可能满足条件。\n",
    "\n",
    "时间复杂度与空间复杂度分析\n",
    "时间复杂度：O(n)，只需一次遍历。\n",
    "\n",
    "空间复杂度：O(n)，哈希表存储元素索引。"
   ]
  },
  {
   "cell_type": "code",
   "execution_count": null,
   "id": "66ff0296-2bda-4819-95d7-755801c1ae3b",
   "metadata": {},
   "outputs": [],
   "source": [
    "def containsNearbyDuplicate(nums, k):\n",
    "    num_map = {}  # 哈希表存储元素及其最近出现的索引\n",
    "    \n",
    "    for i, num in enumerate(nums):\n",
    "        if num in num_map and i - num_map[num] <= k:\n",
    "            return True\n",
    "        num_map[num] = i  # 更新当前元素的索引\n",
    "    \n",
    "    return False\n",
    "\n",
    "# 测试用例 1\n",
    "nums1 = [1, 2, 3, 1]\n",
    "k1 = 3\n",
    "print(\"测试用例 1 输出:\", containsNearbyDuplicate(nums1, k1))  # 输出: True\n",
    "\n",
    "# 测试用例 2\n",
    "nums2 = [1, 0, 1, 1]\n",
    "k2 = 1\n",
    "print(\"测试用例 2 输出:\", containsNearbyDuplicate(nums2, k2))  # 输出: True\n",
    "\n",
    "# 测试用例 3\n",
    "nums3 = [1, 2, 3, 1, 2, 3]\n",
    "k3 = 2\n",
    "print(\"测试用例 3 输出:\", containsNearbyDuplicate(nums3, k3))  # 输出: False\n",
    "\n",
    "# 测试用例 4\n",
    "nums4 = [1, 1]\n",
    "k4 = 0\n",
    "print(\"测试用例 4 输出:\", containsNearbyDuplicate(nums4, k4))  # 输出: False"
   ]
  },
  {
   "cell_type": "code",
   "execution_count": null,
   "id": "e8f74bf4-20d8-4fb8-9c79-c0459f18048e",
   "metadata": {},
   "outputs": [],
   "source": [
    "class Solution(object):\n",
    "    def containsNearbyDuplicate(self, nums, k):\n",
    "        \"\"\"\n",
    "        :type nums: List[int]\n",
    "        :type k: int\n",
    "        :rtype: bool\n",
    "        \"\"\"\n",
    "        repeat={}\n",
    "        for i,num in enumerate(nums):\n",
    "            if(num not in repeat):\n",
    "                repeat[num]=i\n",
    "            elif abs(i-repeat[num])<=k:\n",
    "                return True\n",
    "            else:\n",
    "                repeat[num]=i\n",
    "        return False\n",
    "\n",
    "            \n",
    "        "
   ]
  },
  {
   "cell_type": "code",
   "execution_count": null,
   "id": "4b5dd180-3c05-4e98-b842-c99db28e4aa6",
   "metadata": {},
   "outputs": [],
   "source": []
  },
  {
   "cell_type": "code",
   "execution_count": null,
   "id": "25024e16-dabd-4041-8a58-b321fe0a5b79",
   "metadata": {},
   "outputs": [],
   "source": []
  }
 ],
 "metadata": {
  "kernelspec": {
   "display_name": "Python 3 (ipykernel)",
   "language": "python",
   "name": "python3"
  },
  "language_info": {
   "codemirror_mode": {
    "name": "ipython",
    "version": 3
   },
   "file_extension": ".py",
   "mimetype": "text/x-python",
   "name": "python",
   "nbconvert_exporter": "python",
   "pygments_lexer": "ipython3",
   "version": "3.12.7"
  }
 },
 "nbformat": 4,
 "nbformat_minor": 5
}
