{
 "cells": [
  {
   "cell_type": "markdown",
   "id": "99ad5934-4836-4c26-927e-1c473234a2cb",
   "metadata": {},
   "source": [
    "给你一棵二叉树的根节点 root ，翻转这棵二叉树，并返回其根节点。\n",
    "\n",
    " \n",
    "\n",
    "示例 1：\n",
    "\n",
    "\n",
    "\n",
    "输入：root = [4,2,7,1,3,6,9]\n",
    "输出：[4,7,2,9,6,3,1]\n",
    "示例 2：\n",
    "\n",
    "\n",
    "\n",
    "输入：root = [2,1,3]\n",
    "输出：[2,3,1]\n",
    "示例 3：\n",
    "\n",
    "输入：root = []\n",
    "输出：[]\n",
    " \n",
    "\n",
    "提示：\n",
    "\n",
    "树中节点数目范围在 [0, 100] 内\n",
    "-100 <= Node.val <= 100"
   ]
  },
  {
   "cell_type": "markdown",
   "id": "e26e36bf-a34b-46ce-ab3c-a509a825b478",
   "metadata": {},
   "source": [
    "最优算法设计思路\n",
    "使用 递归法 翻转二叉树：\n",
    "\n",
    "若当前节点为空，返回 None。\n",
    "\n",
    "递归翻转左子树和右子树。\n",
    "\n",
    "交换当前节点的左右子树。\n",
    "\n",
    "返回当前节点。\n",
    "\n",
    "时间复杂度与空间复杂度分析\n",
    "时间复杂度：O(n)，其中 n 是二叉树的节点数。每个节点被访问一次。\n",
    "\n",
    "空间复杂度：O(h)，其中 h 是二叉树的高度。递归调用栈的深度最多为 h。"
   ]
  },
  {
   "cell_type": "code",
   "execution_count": 2,
   "id": "1558fe72-d958-46b7-971c-435dfdcca456",
   "metadata": {},
   "outputs": [
    {
     "name": "stdout",
     "output_type": "stream",
     "text": [
      "测试用例 1 输出: [4, 7, 2, 9, 6, 3, 1]\n",
      "测试用例 2 输出: [2, 3, 1]\n",
      "测试用例 3 输出: []\n"
     ]
    }
   ],
   "source": [
    "class TreeNode:\n",
    "    def __init__(self, val=0, left=None, right=None):\n",
    "        self.val = val\n",
    "        self.left = left\n",
    "        self.right = right\n",
    "\n",
    "def invertTree(root):\n",
    "    if not root:\n",
    "        return None\n",
    "    # 递归翻转左右子树\n",
    "    left = invertTree(root.left)\n",
    "    right = invertTree(root.right)\n",
    "    # 交换左右子树\n",
    "    root.left = right\n",
    "    root.right = left\n",
    "    return root\n",
    "\n",
    "# 辅助函数：根据列表构建二叉树\n",
    "def build_tree(lst, index=0):\n",
    "    if index >= len(lst) or lst[index] is None:\n",
    "        return None\n",
    "    root = TreeNode(lst[index])\n",
    "    root.left = build_tree(lst, 2 * index + 1)\n",
    "    root.right = build_tree(lst, 2 * index + 2)\n",
    "    return root\n",
    "\n",
    "# 辅助函数：将二叉树转换为列表（按层次遍历）\n",
    "def tree_to_list(root):\n",
    "    if not root:\n",
    "        return []\n",
    "    queue = [root]\n",
    "    result = []\n",
    "    while queue:\n",
    "        node = queue.pop(0)\n",
    "        if node:\n",
    "            result.append(node.val)\n",
    "            queue.append(node.left)\n",
    "            queue.append(node.right)\n",
    "        else:\n",
    "            result.append(None)\n",
    "    # 去除末尾的 None\n",
    "    while result and result[-1] is None:\n",
    "        result.pop()\n",
    "    return result\n",
    "\n",
    "# 测试用例 1\n",
    "root1 = build_tree([4, 2, 7, 1, 3, 6, 9])\n",
    "inverted1 = invertTree(root1)\n",
    "print(\"测试用例 1 输出:\", tree_to_list(inverted1))  # 输出: [4, 7, 2, 9, 6, 3, 1]\n",
    "\n",
    "# 测试用例 2\n",
    "root2 = build_tree([2, 1, 3])\n",
    "inverted2 = invertTree(root2)\n",
    "print(\"测试用例 2 输出:\", tree_to_list(inverted2))  # 输出: [2, 3, 1]\n",
    "\n",
    "# 测试用例 3\n",
    "root3 = build_tree([])\n",
    "inverted3 = invertTree(root3)\n",
    "print(\"测试用例 3 输出:\", tree_to_list(inverted3))  # 输出: []"
   ]
  },
  {
   "cell_type": "code",
   "execution_count": null,
   "id": "16c1f1fd-f14f-4081-9bc1-ef4363e001d7",
   "metadata": {},
   "outputs": [],
   "source": []
  }
 ],
 "metadata": {
  "kernelspec": {
   "display_name": "Python 3 (ipykernel)",
   "language": "python",
   "name": "python3"
  },
  "language_info": {
   "codemirror_mode": {
    "name": "ipython",
    "version": 3
   },
   "file_extension": ".py",
   "mimetype": "text/x-python",
   "name": "python",
   "nbconvert_exporter": "python",
   "pygments_lexer": "ipython3",
   "version": "3.12.7"
  }
 },
 "nbformat": 4,
 "nbformat_minor": 5
}
