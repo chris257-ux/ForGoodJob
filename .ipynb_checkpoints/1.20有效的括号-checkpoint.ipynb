{
 "cells": [
  {
   "cell_type": "markdown",
   "id": "20b4a89d-e8f4-4364-ba82-4916c735e73f",
   "metadata": {},
   "source": [
    "给定一个只包括 '('，')'，'{'，'}'，'['，']' 的字符串 s ，判断字符串是否有效。\n",
    "\n",
    "有效字符串需满足：\n",
    "\n",
    "左括号必须用相同类型的右括号闭合。\n",
    "左括号必须以正确的顺序闭合。\n",
    "每个右括号都有一个对应的相同类型的左括号。\n",
    " \n",
    "\n",
    "示例 1：\n",
    "\n",
    "输入：s = \"()\"\n",
    "\n",
    "输出：true\n",
    "\n",
    "示例 2：\n",
    "\n",
    "输入：s = \"()[]{}\"\n",
    "\n",
    "输出：true\n",
    "\n",
    "示例 3：\n",
    "\n",
    "输入：s = \"(]\"\n",
    "\n",
    "输出：false\n",
    "\n",
    "示例 4：\n",
    "\n",
    "输入：s = \"([])\"\n",
    "\n",
    "输出：true\n",
    "\n",
    " \n",
    "\n",
    "提示：\n",
    "\n",
    "1 <= s.length <= 104\n",
    "s 仅由括号 '()[]{}' 组成"
   ]
  },
  {
   "cell_type": "markdown",
   "id": "474fba09-bd8c-4e83-9b19-2b04dfca0996",
   "metadata": {},
   "source": [
    "最优算法设计思路\n",
    "使用 栈 来匹配括号：\n",
    "\n",
    "遍历字符串，若遇到左括号，将其压入栈。\n",
    "\n",
    "若遇到右括号，检查栈顶元素是否为其对应的左括号：\n",
    "\n",
    "若是，弹出栈顶元素；\n",
    "\n",
    "若否，返回 False。\n",
    "\n",
    "遍历结束后，若栈为空，返回 True；否则返回 False。\n",
    "\n",
    "时间复杂度与空间复杂度分析\n",
    "时间复杂度：O(n)，只需一次遍历。\n",
    "\n",
    "空间复杂度：O(n)，栈的深度最多为 n/2。"
   ]
  },
  {
   "cell_type": "code",
   "execution_count": 1,
   "id": "155c55a0-789f-4437-b65d-bd63d8d343b4",
   "metadata": {},
   "outputs": [
    {
     "name": "stdout",
     "output_type": "stream",
     "text": [
      "测试用例 1 输出: True\n",
      "测试用例 2 输出: True\n",
      "测试用例 3 输出: False\n",
      "测试用例 4 输出: True\n",
      "测试用例 5 输出: False\n"
     ]
    }
   ],
   "source": [
    "def isValid(s):\n",
    "    stack = []\n",
    "    mapping = {')': '(', '}': '{', ']': '['}  # 右括号到左括号的映射\n",
    "    \n",
    "    for char in s:\n",
    "        if char in mapping:  # 当前字符是右括号\n",
    "            top_element = stack.pop() if stack else '#'  # 弹出栈顶元素\n",
    "            if mapping[char] != top_element:\n",
    "                return False\n",
    "        else:  # 当前字符是左括号\n",
    "            stack.append(char)\n",
    "    \n",
    "    return not stack  # 栈为空则有效\n",
    "\n",
    "# 测试用例 1\n",
    "s1 = \"()\"\n",
    "print(\"测试用例 1 输出:\", isValid(s1))  # 输出: True\n",
    "\n",
    "# 测试用例 2\n",
    "s2 = \"()[]{}\"\n",
    "print(\"测试用例 2 输出:\", isValid(s2))  # 输出: True\n",
    "\n",
    "# 测试用例 3\n",
    "s3 = \"(]\"\n",
    "print(\"测试用例 3 输出:\", isValid(s3))  # 输出: False\n",
    "\n",
    "# 测试用例 4\n",
    "s4 = \"([])\"\n",
    "print(\"测试用例 4 输出:\", isValid(s4))  # 输出: True\n",
    "\n",
    "# 测试用例 5\n",
    "s5 = \"([)]\"\n",
    "print(\"测试用例 5 输出:\", isValid(s5))  # 输出: False"
   ]
  },
  {
   "cell_type": "code",
   "execution_count": null,
   "id": "e9a7b078-e394-4b4b-a59a-c27c340137f2",
   "metadata": {},
   "outputs": [],
   "source": []
  }
 ],
 "metadata": {
  "kernelspec": {
   "display_name": "Python 3 (ipykernel)",
   "language": "python",
   "name": "python3"
  },
  "language_info": {
   "codemirror_mode": {
    "name": "ipython",
    "version": 3
   },
   "file_extension": ".py",
   "mimetype": "text/x-python",
   "name": "python",
   "nbconvert_exporter": "python",
   "pygments_lexer": "ipython3",
   "version": "3.12.7"
  }
 },
 "nbformat": 4,
 "nbformat_minor": 5
}
