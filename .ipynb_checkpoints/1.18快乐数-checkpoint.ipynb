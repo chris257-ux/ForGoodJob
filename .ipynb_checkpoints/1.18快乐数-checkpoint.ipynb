{
 "cells": [
  {
   "cell_type": "markdown",
   "id": "cc0977bc-b790-4ea4-8c9c-183666f7e8f2",
   "metadata": {},
   "source": [
    "编写一个算法来判断一个数 n 是不是快乐数。\n",
    "\n",
    "「快乐数」 定义为：\n",
    "\n",
    "对于一个正整数，每一次将该数替换为它每个位置上的数字的平方和。\n",
    "然后重复这个过程直到这个数变为 1，也可能是 无限循环 但始终变不到 1。\n",
    "如果这个过程 结果为 1，那么这个数就是快乐数。\n",
    "如果 n 是 快乐数 就返回 true ；不是，则返回 false 。\n",
    "\n",
    " \n",
    "\n",
    "示例 1：\n",
    "\n",
    "输入：n = 19\n",
    "输出：true\n",
    "解释：\n",
    "12 + 92 = 82\n",
    "82 + 22 = 68\n",
    "62 + 82 = 100\n",
    "12 + 02 + 02 = 1\n",
    "示例 2：\n",
    "\n",
    "输入：n = 2\n",
    "输出：false\n",
    " \n",
    "\n",
    "提示：\n",
    "\n",
    "1 <= n <= 231 - 1"
   ]
  },
  {
   "cell_type": "markdown",
   "id": "4f55b45e-d73d-45a1-8fb9-6b8ba9f6776f",
   "metadata": {},
   "source": [
    "最优算法设计思路\n",
    "使用 快慢指针法 检测循环：\n",
    "\n",
    "定义 get_next 函数计算下一个数。\n",
    "\n",
    "使用快慢指针遍历数链，若快指针到达 1，返回 True；若快慢指针相遇且不为 1，返回 False。\n",
    "\n",
    "时间复杂度与空间复杂度分析\n",
    "时间复杂度：O(logn)，每次计算下一个数的时间复杂度为 O(logn)，快慢指针相遇时间较短。\n",
    "\n",
    "空间复杂度：O(1)，仅使用常数空间。"
   ]
  },
  {
   "cell_type": "code",
   "execution_count": 7,
   "id": "96397f6e-aec2-459c-9ef0-49bfa8e9798e",
   "metadata": {},
   "outputs": [
    {
     "name": "stdout",
     "output_type": "stream",
     "text": [
      "测试用例 1 输出: True\n",
      "测试用例 2 输出: False\n",
      "测试用例 3 输出: True\n",
      "测试用例 4 输出: False\n"
     ]
    }
   ],
   "source": [
    "def isHappy(n):\n",
    "    \"\"\"\n",
    "    :type n: int\n",
    "    :rtype: bool\n",
    "    \"\"\"\n",
    "    def getnext(num):\n",
    "        sum=0\n",
    "        while(num>0):\n",
    "            r=num%10\n",
    "            sum+=r**2\n",
    "            num//=10\n",
    "        return sum\n",
    "    slow=n\n",
    "    fast=getnext(n)\n",
    "    while fast!=1 and fast!=slow:\n",
    "        slow=getnext(slow)\n",
    "        fast=getnext(getnext(fast))\n",
    "    return fast==1\n",
    "# 测试用例 1\n",
    "n1 = 19\n",
    "print(\"测试用例 1 输出:\", isHappy(n1))  # 输出: True\n",
    "\n",
    "# 测试用例 2\n",
    "n2 = 2\n",
    "print(\"测试用例 2 输出:\", isHappy(n2))  # 输出: False\n",
    "\n",
    "# 测试用例 3\n",
    "n3 = 7\n",
    "print(\"测试用例 3 输出:\", isHappy(n3))  # 输出: True\n",
    "\n",
    "# 测试用例 4\n",
    "n4 = 20\n",
    "print(\"测试用例 4 输出:\", isHappy(n4))  # 输出: False"
   ]
  },
  {
   "cell_type": "code",
   "execution_count": 3,
   "id": "eadc034b-c2b5-4750-9771-42653edcfea8",
   "metadata": {},
   "outputs": [],
   "source": [
    "#集合\n",
    "class Solution(object):\n",
    "    def isHappy(self, n):\n",
    "        \"\"\"\n",
    "        :type n: int\n",
    "        :rtype: bool\n",
    "        \"\"\"\n",
    "        def getnext(num):\n",
    "            sum=0\n",
    "            while(num>0):\n",
    "                r=num%10\n",
    "                sum+=r**2\n",
    "                num//=10\n",
    "            return sum\n",
    "        seen=set()\n",
    "        while n!=1 and n not in seen:\n",
    "            seen.add(n)\n",
    "            n=getnext(n)\n",
    "        return n==1        "
   ]
  },
  {
   "cell_type": "code",
   "execution_count": null,
   "id": "93cf4f66-aecb-4062-a684-491dd59016aa",
   "metadata": {},
   "outputs": [],
   "source": []
  }
 ],
 "metadata": {
  "kernelspec": {
   "display_name": "Python 3 (ipykernel)",
   "language": "python",
   "name": "python3"
  },
  "language_info": {
   "codemirror_mode": {
    "name": "ipython",
    "version": 3
   },
   "file_extension": ".py",
   "mimetype": "text/x-python",
   "name": "python",
   "nbconvert_exporter": "python",
   "pygments_lexer": "ipython3",
   "version": "3.12.7"
  }
 },
 "nbformat": 4,
 "nbformat_minor": 5
}
