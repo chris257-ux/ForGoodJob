{
 "cells": [
  {
   "cell_type": "markdown",
   "id": "62d43b3e-17cd-45e8-a4c5-0e375954574f",
   "metadata": {},
   "source": [
    "给你一棵 完全二叉树 的根节点 root ，求出该树的节点个数。\n",
    "\n",
    "完全二叉树 的定义如下：在完全二叉树中，除了最底层节点可能没填满外，其余每层节点数都达到最大值，并且最下面一层的节点都集中在该层最左边的若干位置。若最底层为第 h 层（从第 0 层开始），则该层包含 1~ 2h 个节点。\n",
    "\n",
    " \n",
    "\n",
    "示例 1：\n",
    "\n",
    "\n",
    "输入：root = [1,2,3,4,5,6]\n",
    "输出：6\n",
    "示例 2：\n",
    "\n",
    "输入：root = []\n",
    "输出：0\n",
    "示例 3：\n",
    "\n",
    "输入：root = [1]\n",
    "输出：1\n",
    " \n",
    "\n",
    "提示：\n",
    "\n",
    "树中节点的数目范围是[0, 5 * 104]\n",
    "0 <= Node.val <= 5 * 104\n",
    "题目数据保证输入的树是 完全二叉树\n",
    " \n",
    "\n",
    "进阶：遍历树来统计节点是一种时间复杂度为 O(n) 的简单解决方案。你可以设计一个更快的算法吗？"
   ]
  },
  {
   "cell_type": "markdown",
   "id": "d3b15116-e252-48de-b970-a78ed6e2d8c3",
   "metadata": {},
   "source": [
    "总结\n",
    "递归遍历 和 迭代遍历 的时间复杂度都是 O(n)，其中 n 是树的节点数。\n",
    "利用完全二叉树的性质 的方法可以更高效地计算节点数，时间复杂度为 O(log n)。"
   ]
  },
  {
   "cell_type": "markdown",
   "id": "e06f47a8-61e9-47c2-a7ce-b0b1ae90b118",
   "metadata": {},
   "source": [
    "最优算法设计思路\n",
    "利用完全二叉树的性质，设计一个时间复杂度低于 O(n) 的算法：\n",
    "\n",
    "计算左子树和右子树的高度。\n",
    "\n",
    "若左子树高度等于右子树高度，说明左子树是满二叉树，节点数为 2 h −1，加上根节点，递归计算右子树。\n",
    "\n",
    "若左子树高度大于右子树高度，说明右子树是满二叉树，节点数为 2 h−1 −1，加上根节点，递归计算左子树。\n",
    "\n",
    "时间复杂度与空间复杂度分析\n",
    "时间复杂度：O(logn×logn)，每次递归调用需要计算高度，高度计算的时间复杂度为 O(logn)。\n",
    "\n",
    "空间复杂度：O(logn)，递归调用栈的深度最多为树的高度。"
   ]
  },
  {
   "cell_type": "code",
   "execution_count": 3,
   "id": "d1ce9a55-21be-4339-b5ce-a381581628b2",
   "metadata": {},
   "outputs": [
    {
     "name": "stdout",
     "output_type": "stream",
     "text": [
      "测试用例 1 输出: 6\n",
      "测试用例 2 输出: 0\n",
      "测试用例 3 输出: 1\n",
      "测试用例 4 输出: 10\n"
     ]
    }
   ],
   "source": [
    "class TreeNode:\n",
    "    def __init__(self, val=0, left=None, right=None):\n",
    "        self.val = val\n",
    "        self.left = left\n",
    "        self.right = right\n",
    "\n",
    "def countNodes(root):\n",
    "    def get_height(node):\n",
    "        height = 0\n",
    "        while node:\n",
    "            height += 1\n",
    "            node = node.left\n",
    "        return height\n",
    "    \n",
    "    if not root:\n",
    "        return 0\n",
    "    left_height = get_height(root.left)  # 计算左子树高度\n",
    "    right_height = get_height(root.right)  # 计算右子树高度\n",
    "    \n",
    "    if left_height == right_height:  # 左子树是满二叉树\n",
    "        return (1 << left_height) + countNodes(root.right)  # 2^h - 1 + 1 + 右子树节点数\n",
    "    else:  # 右子树是满二叉树\n",
    "        return (1 << right_height) + countNodes(root.left)  # 2^(h-1) - 1 + 1 + 左子树节点数\n",
    "\n",
    "# 辅助函数：根据列表构建完全二叉树\n",
    "def build_tree(lst, index=0):\n",
    "    if index >= len(lst) or lst[index] is None:\n",
    "        return None\n",
    "    root = TreeNode(lst[index])\n",
    "    root.left = build_tree(lst, 2 * index + 1)\n",
    "    root.right = build_tree(lst, 2 * index + 2)\n",
    "    return root\n",
    "\n",
    "# 测试用例 1\n",
    "root1 = build_tree([1, 2, 3, 4, 5, 6])\n",
    "print(\"测试用例 1 输出:\", countNodes(root1))  # 输出: 6\n",
    "\n",
    "# 测试用例 2\n",
    "root2 = build_tree([])\n",
    "print(\"测试用例 2 输出:\", countNodes(root2))  # 输出: 0\n",
    "\n",
    "# 测试用例 3\n",
    "root3 = build_tree([1])\n",
    "print(\"测试用例 3 输出:\", countNodes(root3))  # 输出: 1\n",
    "\n",
    "# 测试用例 4\n",
    "root4 = build_tree([1, 2, 3, 4, 5, 6, 7, 8, 9, 10])\n",
    "print(\"测试用例 4 输出:\", countNodes(root4))  # 输出: 10"
   ]
  },
  {
   "cell_type": "code",
   "execution_count": null,
   "id": "ebe47999-123f-43e8-a63f-01a3de303308",
   "metadata": {},
   "outputs": [],
   "source": [
    "# 方法一：递归遍历\n",
    "class TreeNode(object):\n",
    "    def __init__(self, val=0, left=None, right=None):\n",
    "        self.val = val\n",
    "        self.left = left\n",
    "        self.right = right\n",
    "class Solution(object):\n",
    "    def countNodes(self, root):\n",
    "        \"\"\"\n",
    "        :type root: Optional[TreeNode]\n",
    "        :rtype: int\n",
    "        \"\"\"\n",
    "        if not root:\n",
    "            return 0\n",
    "        return 1+self.countNodes(root.left)+self.countNodes(root.right)\n",
    "\n",
    "        "
   ]
  },
  {
   "cell_type": "code",
   "execution_count": null,
   "id": "b6285968-792b-4908-8f3f-c2ede789facd",
   "metadata": {},
   "outputs": [],
   "source": [
    "#方法 2：迭代遍历\n",
    "class Solution:\n",
    "    def countNodes(self, root):\n",
    "        if not root:\n",
    "            return 0\n",
    "        queue = [root]\n",
    "        count = 0\n",
    "        while queue:\n",
    "            node = queue.pop(0)\n",
    "            count += 1\n",
    "            if node.left:\n",
    "                queue.append(node.left)\n",
    "            if node.right:\n",
    "                queue.append(node.right)\n",
    "        return count"
   ]
  },
  {
   "cell_type": "code",
   "execution_count": null,
   "id": "3a20a092-503b-4182-873a-7f52fb076f66",
   "metadata": {},
   "outputs": [],
   "source": []
  }
 ],
 "metadata": {
  "kernelspec": {
   "display_name": "Python 3 (ipykernel)",
   "language": "python",
   "name": "python3"
  },
  "language_info": {
   "codemirror_mode": {
    "name": "ipython",
    "version": 3
   },
   "file_extension": ".py",
   "mimetype": "text/x-python",
   "name": "python",
   "nbconvert_exporter": "python",
   "pygments_lexer": "ipython3",
   "version": "3.12.7"
  }
 },
 "nbformat": 4,
 "nbformat_minor": 5
}
