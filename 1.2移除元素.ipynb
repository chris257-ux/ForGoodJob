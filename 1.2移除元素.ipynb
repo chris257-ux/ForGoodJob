{
 "cells": [
  {
   "cell_type": "markdown",
   "id": "f3d6c319-dd6a-475d-be83-439d72731839",
   "metadata": {},
   "source": [
    "给你一个数组 nums 和一个值 val，你需要 原地 移除所有数值等于 val 的元素。元素的顺序可能发生改变。然后返回 nums 中与 val 不同的元素的数量。\n",
    "\n",
    "假设 nums 中不等于 val 的元素数量为 k，要通过此题，您需要执行以下操作：\n",
    "\n",
    "更改 nums 数组，使 nums 的前 k 个元素包含不等于 val 的元素。nums 的其余元素和 nums 的大小并不重要。\n",
    "返回 k。\n",
    "用户评测：\n",
    "\n",
    "评测机将使用以下代码测试您的解决方案：\n",
    "\n",
    "int[] nums = [...]; // 输入数组\n",
    "int val = ...; // 要移除的值\n",
    "int[] expectedNums = [...]; // 长度正确的预期答案。\n",
    "                            // 它以不等于 val 的值排序。\n",
    "\n",
    "int k = removeElement(nums, val); // 调用你的实现\n",
    "\n",
    "assert k == expectedNums.length;\n",
    "sort(nums, 0, k); // 排序 nums 的前 k 个元素\n",
    "for (int i = 0; i < actualLength; i++) {\n",
    "    assert nums[i] == expectedNums[i];\n",
    "}\n",
    "如果所有的断言都通过，你的解决方案将会 通过。\n",
    "\n",
    " \n",
    "\n",
    "示例 1：\n",
    "\n",
    "输入：nums = [3,2,2,3], val = 3\n",
    "输出：2, nums = [2,2,_,_]\n",
    "解释：你的函数函数应该返回 k = 2, 并且 nums 中的前两个元素均为 2。\n",
    "你在返回的 k 个元素之外留下了什么并不重要（因此它们并不计入评测）。\n",
    "示例 2：\n",
    "\n",
    "输入：nums = [0,1,2,2,3,0,4,2], val = 2\n",
    "输出：5, nums = [0,1,4,0,3,_,_,_]\n",
    "解释：你的函数应该返回 k = 5，并且 nums 中的前五个元素为 0,0,1,3,4。\n",
    "注意这五个元素可以任意顺序返回。\n",
    "你在返回的 k 个元素之外留下了什么并不重要（因此它们并不计入评测）。\n",
    " \n",
    "\n",
    "提示：\n",
    "\n",
    "0 <= nums.length <= 100\n",
    "0 <= nums[i] <= 50\n",
    "0 <= val <= 100"
   ]
  },
  {
   "cell_type": "markdown",
   "id": "9142f49d-d729-4120-b64a-b8d2440dc652",
   "metadata": {},
   "source": [
    "最优算法设计思路\n",
    "为了最小化时间复杂度，我们可以采用双指针法：\n",
    "\n",
    "使用一个指针 i 遍历数组。\n",
    "\n",
    "使用另一个指针 k 记录不等于 val 的元素的位置。\n",
    "\n",
    "当 nums[i] 不等于 val 时，将其赋值给 nums[k]，并递增 k。\n",
    "\n",
    "最终返回 k，即为新数组的长度。\n",
    "\n",
    "这种方法的时间复杂度为 O(n)，空间复杂度为O(1)。\n",
    "\n",
    "时间复杂度与空间复杂度分析\n",
    "时间复杂度：只需遍历数组一次。\n",
    "空间复杂度：没有使用额外的空间，所有操作都在原地完成。"
   ]
  },
  {
   "cell_type": "code",
   "execution_count": 21,
   "id": "feec55fb-6955-4690-8a14-c2fc9e9fb121",
   "metadata": {},
   "outputs": [
    {
     "name": "stdout",
     "output_type": "stream",
     "text": [
      "测试用例 1 通过\n",
      "测试用例 2 通过\n"
     ]
    }
   ],
   "source": [
    "def removeElement(nums, val):\n",
    "    \"\"\"\n",
    "    原地移除数组中所有等于 val 的元素，并返回新数组的长度。\n",
    "    \n",
    "    :param nums: List[int]，输入数组\n",
    "    :param val: int，需要移除的值\n",
    "    :return: int，新数组的长度\n",
    "    \"\"\"\n",
    "    k = 0  # 初始化指针 k，用于记录不等于 val 的元素的位置\n",
    "\n",
    "    # 遍历数组\n",
    "    for i in range(len(nums)):\n",
    "        if nums[i] != val:\n",
    "            nums[k] = nums[i]  # 将不等于 val 的元素放到 nums[k] 的位置\n",
    "            k += 1  # 移动指针 k\n",
    "\n",
    "    return k  # 返回新数组的长度\n",
    "\n",
    "# 测试用例 1\n",
    "nums = [3, 2, 2, 3]\n",
    "val = 3\n",
    "expectedNums = [2, 2]\n",
    "k = removeElement(nums, val)\n",
    "assert k == len(expectedNums), f\"Length mismatch: expected {len(expectedNums)}, got {k}\"\n",
    "for i in range(k):\n",
    "    assert nums[i] == expectedNums[i], f\"Element mismatch at index {i}: expected {expectedNums[i]}, got {nums[i]}\"\n",
    "print(\"测试用例 1 通过\")\n",
    "\n",
    "# 测试用例 2\n",
    "nums = [0, 1, 2, 2, 3, 0, 4, 2]\n",
    "val = 2\n",
    "expectedNums = [0,1,3,0,4]\n",
    "k = removeElement(nums, val)\n",
    "assert k == len(expectedNums), f\"Length mismatch: expected {len(expectedNums)}, got {k}\"\n",
    "for i in range(k):\n",
    "    assert nums[i] == expectedNums[i], f\"Element mismatch at index {i}: expected {expectedNums[i]}, got {nums[i]}\"\n",
    "print(\"测试用例 2 通过\") "
   ]
  },
  {
   "cell_type": "code",
   "execution_count": 11,
   "id": "5ea38fbb-62ea-4c8e-b08f-643012d65332",
   "metadata": {},
   "outputs": [],
   "source": [
    "assert 1 == 1  # 条件为真，不会有任何输出"
   ]
  },
  {
   "cell_type": "code",
   "execution_count": 13,
   "id": "e1d10c3f-907d-4307-bb95-7cbfd28d107b",
   "metadata": {},
   "outputs": [
    {
     "ename": "AssertionError",
     "evalue": "",
     "output_type": "error",
     "traceback": [
      "\u001b[1;31m---------------------------------------------------------------------------\u001b[0m",
      "\u001b[1;31mAssertionError\u001b[0m                            Traceback (most recent call last)",
      "Cell \u001b[1;32mIn[13], line 1\u001b[0m\n\u001b[1;32m----> 1\u001b[0m \u001b[38;5;28;01massert\u001b[39;00m \u001b[38;5;241m1\u001b[39m \u001b[38;5;241m==\u001b[39m \u001b[38;5;241m2\u001b[39m\n",
      "\u001b[1;31mAssertionError\u001b[0m: "
     ]
    }
   ],
   "source": [
    "assert 1 == 2  # 条件为假，会抛出AssertionError"
   ]
  },
  {
   "cell_type": "code",
   "execution_count": null,
   "id": "3962b8dc-d56f-4042-b40f-6fce3dd5efbf",
   "metadata": {},
   "outputs": [],
   "source": []
  }
 ],
 "metadata": {
  "kernelspec": {
   "display_name": "Python 3 (ipykernel)",
   "language": "python",
   "name": "python3"
  },
  "language_info": {
   "codemirror_mode": {
    "name": "ipython",
    "version": 3
   },
   "file_extension": ".py",
   "mimetype": "text/x-python",
   "name": "python",
   "nbconvert_exporter": "python",
   "pygments_lexer": "ipython3",
   "version": "3.12.7"
  }
 },
 "nbformat": 4,
 "nbformat_minor": 5
}
